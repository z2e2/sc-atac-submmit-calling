{
 "cells": [
  {
   "cell_type": "code",
   "execution_count": 13,
   "id": "5d93552f",
   "metadata": {},
   "outputs": [
    {
     "name": "stderr",
     "output_type": "stream",
     "text": [
      "/tmp/ipykernel_32430/3149375562.py:8: UserWarning: This pattern is interpreted as a regular expression, and has match groups. To actually get the groups, use str.extract.\n",
      "  peak_df = peak_df[peak_df['chrm'].str.contains('chr([0-9][0-9]?)|(x)', case=False)]\n"
     ]
    },
    {
     "data": {
      "text/plain": [
       "117366"
      ]
     },
     "execution_count": 13,
     "metadata": {},
     "output_type": "execute_result"
    }
   ],
   "source": [
    "import pandas as pd\n",
    "\n",
    "data_dir = \"results/motif_regression_output/macs2/\"\n",
    "peak_df = pd.read_csv(data_dir + \"pbmc_peaks.narrowPeak\", sep = \"\\t\", \n",
    "                      header=None, names=['chrm', 'start', 'end', 'peak_name', \n",
    "                                          'int score', '_', 'fold_change', \n",
    "                                          'pvalue', 'qvalue', 'summit_loc'])\n",
    "peak_df = peak_df[peak_df['chrm'].str.contains('chr([0-9][0-9]?)|(x)', case=False)]\n",
    "peak_df['length'] = peak_df.apply(lambda x: x['end']-x['start']+1, axis=1)\n",
    "\n",
    "prev_start = 0\n",
    "prev_end = 0\n",
    "res = []\n",
    "for i in range(peak_df.shape[0]):\n",
    "    cur_start = peak_df.iloc[i]['start']\n",
    "    cur_end = peak_df.iloc[i]['end']\n",
    "    if cur_start == prev_start and prev_end == prev_end:\n",
    "        res.append(False)\n",
    "    else:\n",
    "        res.append(True)\n",
    "    prev_start = cur_start \n",
    "    prev_end = cur_end\n",
    "peak_df = peak_df[res]   \n",
    "\n",
    "peak_df[['chrm', 'start', 'end', 'length']].to_csv('results/motif_regression_output/MACS2_peaks.bed', \n",
    "                                                   header=None, sep='\\t', index=False)\n",
    "\n",
    "peak_df.shape[0]"
   ]
  },
  {
   "cell_type": "code",
   "execution_count": 16,
   "id": "6e5f70e1",
   "metadata": {},
   "outputs": [
    {
     "data": {
      "text/plain": [
       "chr1     11365\n",
       "chr2      9431\n",
       "chr3      7440\n",
       "chr6      7255\n",
       "chr12     6098\n",
       "chr17     6061\n",
       "chr5      5832\n",
       "chr7      5767\n",
       "chr11     5734\n",
       "chr10     5533\n",
       "chr19     4940\n",
       "chr8      4875\n",
       "chr9      4774\n",
       "chr4      4709\n",
       "chr16     4119\n",
       "chr14     3998\n",
       "chr15     3854\n",
       "chr20     3338\n",
       "chrX      3194\n",
       "chr13     2681\n",
       "chr22     2584\n",
       "chr18     2289\n",
       "chr21     1495\n",
       "Name: chrm, dtype: int64"
      ]
     },
     "execution_count": 16,
     "metadata": {},
     "output_type": "execute_result"
    }
   ],
   "source": [
    "peak_df['chrm'].value_counts()"
   ]
  },
  {
   "cell_type": "code",
   "execution_count": 17,
   "id": "bc03291e",
   "metadata": {},
   "outputs": [
    {
     "name": "stdout",
     "output_type": "stream",
     "text": [
      "chr1\t10016\t10245\t230\r\n",
      "chr1\t180707\t180967\t261\r\n",
      "chr1\t181336\t181550\t215\r\n",
      "chr1\t191363\t191898\t536\r\n",
      "chr1\t267886\t268075\t190\r\n",
      "chr1\t271199\t271359\t161\r\n",
      "chr1\t586095\t586260\t166\r\n",
      "chr1\t629833\t630004\t172\r\n",
      "chr1\t633910\t634095\t186\r\n",
      "chr1\t778296\t779130\t835\r\n"
     ]
    }
   ],
   "source": [
    "!head results/motif_regression_output/MACS2_peaks.bed"
   ]
  },
  {
   "cell_type": "code",
   "execution_count": 18,
   "id": "3dcdf5bb",
   "metadata": {},
   "outputs": [
    {
     "name": "stdout",
     "output_type": "stream",
     "text": [
      "117366 results/motif_regression_output/MACS2_peaks.bed\r\n"
     ]
    }
   ],
   "source": [
    "!wc -l results/motif_regression_output/MACS2_peaks.bed"
   ]
  },
  {
   "cell_type": "code",
   "execution_count": 19,
   "id": "e35a0b6a",
   "metadata": {},
   "outputs": [
    {
     "data": {
      "text/plain": [
       "<AxesSubplot:>"
      ]
     },
     "execution_count": 19,
     "metadata": {},
     "output_type": "execute_result"
    },
    {
     "data": {
      "image/png": "[encoded data removed]",
      "text/plain": [
       "<Figure size 432x288 with 1 Axes>"
      ]
     },
     "metadata": {
      "needs_background": "light"
     },
     "output_type": "display_data"
    }
   ],
   "source": [
    "peak_df['length'].hist()"
   ]
  },
  {
   "cell_type": "code",
   "execution_count": null,
   "id": "f811880c",
   "metadata": {},
   "outputs": [],
   "source": []
  }
 ],
 "metadata": {
  "kernelspec": {
   "display_name": "sc38",
   "language": "python",
   "name": "sc38"
  },
  "language_info": {
   "codemirror_mode": {
    "name": "ipython",
    "version": 3
   },
   "file_extension": ".py",
   "mimetype": "text/x-python",
   "name": "python",
   "nbconvert_exporter": "python",
   "pygments_lexer": "ipython3",
   "version": "3.8.13"
  }
 },
 "nbformat": 4,
 "nbformat_minor": 5
}

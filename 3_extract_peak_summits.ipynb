{
 "cells": [
  {
   "cell_type": "markdown",
   "id": "colonial-destiny",
   "metadata": {},
   "source": [
    "## based on Yuri's script,  find_summits.R"
   ]
  },
  {
   "cell_type": "code",
   "execution_count": 1,
   "id": "palestinian-princess",
   "metadata": {
    "scrolled": true
   },
   "outputs": [
    {
     "name": "stderr",
     "output_type": "stream",
     "text": [
      "Loading required package: GenomicRanges\n",
      "\n",
      "Loading required package: stats4\n",
      "\n",
      "Loading required package: BiocGenerics\n",
      "\n",
      "\n",
      "Attaching package: ‘BiocGenerics’\n",
      "\n",
      "\n",
      "The following objects are masked from ‘package:stats’:\n",
      "\n",
      "    IQR, mad, sd, var, xtabs\n",
      "\n",
      "\n",
      "The following objects are masked from ‘package:base’:\n",
      "\n",
      "    anyDuplicated, append, as.data.frame, basename, cbind, colnames,\n",
      "    dirname, do.call, duplicated, eval, evalq, Filter, Find, get, grep,\n",
      "    grepl, intersect, is.unsorted, lapply, Map, mapply, match, mget,\n",
      "    order, paste, pmax, pmax.int, pmin, pmin.int, Position, rank,\n",
      "    rbind, Reduce, rownames, sapply, setdiff, sort, table, tapply,\n",
      "    union, unique, unsplit, which.max, which.min\n",
      "\n",
      "\n",
      "Loading required package: S4Vectors\n",
      "\n",
      "\n",
      "Attaching package: ‘S4Vectors’\n",
      "\n",
      "\n",
      "The following objects are masked from ‘package:base’:\n",
      "\n",
      "    expand.grid, I, unname\n",
      "\n",
      "\n",
      "Loading required package: IRanges\n",
      "\n",
      "Loading required package: GenomeInfoDb\n",
      "\n",
      "\n",
      "Attaching package: ‘plyr’\n",
      "\n",
      "\n",
      "The following object is masked from ‘package:IRanges’:\n",
      "\n",
      "    desc\n",
      "\n",
      "\n",
      "The following object is masked from ‘package:S4Vectors’:\n",
      "\n",
      "    rename\n",
      "\n",
      "\n",
      "── \u001b[1mAttaching packages\u001b[22m ─────────────────────────────────────── tidyverse 1.3.1 ──\n",
      "\n",
      "\u001b[32m✔\u001b[39m \u001b[34mggplot2\u001b[39m 3.3.6     \u001b[32m✔\u001b[39m \u001b[34mpurrr  \u001b[39m 0.3.4\n",
      "\u001b[32m✔\u001b[39m \u001b[34mtibble \u001b[39m 3.1.7     \u001b[32m✔\u001b[39m \u001b[34mdplyr  \u001b[39m 1.0.9\n",
      "\u001b[32m✔\u001b[39m \u001b[34mtidyr  \u001b[39m 1.2.0     \u001b[32m✔\u001b[39m \u001b[34mstringr\u001b[39m 1.4.0\n",
      "\u001b[32m✔\u001b[39m \u001b[34mreadr  \u001b[39m 2.1.2     \u001b[32m✔\u001b[39m \u001b[34mforcats\u001b[39m 0.5.1\n",
      "\n",
      "── \u001b[1mConflicts\u001b[22m ────────────────────────────────────────── tidyverse_conflicts() ──\n",
      "\u001b[31m✖\u001b[39m \u001b[34mdplyr\u001b[39m::\u001b[32marrange()\u001b[39m    masks \u001b[34mplyr\u001b[39m::arrange()\n",
      "\u001b[31m✖\u001b[39m \u001b[34mdplyr\u001b[39m::\u001b[32mcollapse()\u001b[39m   masks \u001b[34mIRanges\u001b[39m::collapse()\n",
      "\u001b[31m✖\u001b[39m \u001b[34mdplyr\u001b[39m::\u001b[32mcombine()\u001b[39m    masks \u001b[34mBiocGenerics\u001b[39m::combine()\n",
      "\u001b[31m✖\u001b[39m \u001b[34mpurrr\u001b[39m::\u001b[32mcompact()\u001b[39m    masks \u001b[34mplyr\u001b[39m::compact()\n",
      "\u001b[31m✖\u001b[39m \u001b[34mdplyr\u001b[39m::\u001b[32mcount()\u001b[39m      masks \u001b[34mplyr\u001b[39m::count()\n",
      "\u001b[31m✖\u001b[39m \u001b[34mdplyr\u001b[39m::\u001b[32mdesc()\u001b[39m       masks \u001b[34mplyr\u001b[39m::desc(), \u001b[34mIRanges\u001b[39m::desc()\n",
      "\u001b[31m✖\u001b[39m \u001b[34mtidyr\u001b[39m::\u001b[32mexpand()\u001b[39m     masks \u001b[34mS4Vectors\u001b[39m::expand()\n",
      "\u001b[31m✖\u001b[39m \u001b[34mdplyr\u001b[39m::\u001b[32mfailwith()\u001b[39m   masks \u001b[34mplyr\u001b[39m::failwith()\n",
      "\u001b[31m✖\u001b[39m \u001b[34mdplyr\u001b[39m::\u001b[32mfilter()\u001b[39m     masks \u001b[34mstats\u001b[39m::filter()\n",
      "\u001b[31m✖\u001b[39m \u001b[34mdplyr\u001b[39m::\u001b[32mfirst()\u001b[39m      masks \u001b[34mS4Vectors\u001b[39m::first()\n",
      "\u001b[31m✖\u001b[39m \u001b[34mdplyr\u001b[39m::\u001b[32mid()\u001b[39m         masks \u001b[34mplyr\u001b[39m::id()\n",
      "\u001b[31m✖\u001b[39m \u001b[34mdplyr\u001b[39m::\u001b[32mlag()\u001b[39m        masks \u001b[34mstats\u001b[39m::lag()\n",
      "\u001b[31m✖\u001b[39m \u001b[34mdplyr\u001b[39m::\u001b[32mmutate()\u001b[39m     masks \u001b[34mplyr\u001b[39m::mutate()\n",
      "\u001b[31m✖\u001b[39m \u001b[34mggplot2\u001b[39m::\u001b[32mPosition()\u001b[39m masks \u001b[34mBiocGenerics\u001b[39m::Position(), \u001b[34mbase\u001b[39m::Position()\n",
      "\u001b[31m✖\u001b[39m \u001b[34mpurrr\u001b[39m::\u001b[32mreduce()\u001b[39m     masks \u001b[34mGenomicRanges\u001b[39m::reduce(), \u001b[34mIRanges\u001b[39m::reduce()\n",
      "\u001b[31m✖\u001b[39m \u001b[34mdplyr\u001b[39m::\u001b[32mrename()\u001b[39m     masks \u001b[34mplyr\u001b[39m::rename(), \u001b[34mS4Vectors\u001b[39m::rename()\n",
      "\u001b[31m✖\u001b[39m \u001b[34mdplyr\u001b[39m::\u001b[32mslice()\u001b[39m      masks \u001b[34mIRanges\u001b[39m::slice()\n",
      "\u001b[31m✖\u001b[39m \u001b[34mdplyr\u001b[39m::\u001b[32msummarise()\u001b[39m  masks \u001b[34mplyr\u001b[39m::summarise()\n",
      "\u001b[31m✖\u001b[39m \u001b[34mdplyr\u001b[39m::\u001b[32msummarize()\u001b[39m  masks \u001b[34mplyr\u001b[39m::summarize()\n",
      "\n",
      "\n",
      "Attaching package: ‘data.table’\n",
      "\n",
      "\n",
      "The following objects are masked from ‘package:dplyr’:\n",
      "\n",
      "    between, first, last\n",
      "\n",
      "\n",
      "The following object is masked from ‘package:purrr’:\n",
      "\n",
      "    transpose\n",
      "\n",
      "\n",
      "The following object is masked from ‘package:GenomicRanges’:\n",
      "\n",
      "    shift\n",
      "\n",
      "\n",
      "The following object is masked from ‘package:IRanges’:\n",
      "\n",
      "    shift\n",
      "\n",
      "\n",
      "The following objects are masked from ‘package:S4Vectors’:\n",
      "\n",
      "    first, second\n",
      "\n",
      "\n"
     ]
    }
   ],
   "source": [
    "library(rtracklayer)\n",
    "library(GenomicRanges)\n",
    "library(plyr)\n",
    "library(tidyverse)\n",
    "library(data.table)\n",
    "\n",
    "library(biosignals)"
   ]
  },
  {
   "cell_type": "code",
   "execution_count": 2,
   "id": "c5e80a02",
   "metadata": {},
   "outputs": [],
   "source": [
    "archr_dir = '/Genomics/pritykinlab/zzhao/sc-atac-submmit-calling/results/pbmc_archR_output/'\n",
    "# load peaks from archR, convert the format to bed first.\n",
    "all.atac.peaks <- rtracklayer::import(paste(archr_dir, \"PBMC_peaks.bed\", sep=\"/\"))"
   ]
  },
  {
   "cell_type": "code",
   "execution_count": 3,
   "id": "682bd123",
   "metadata": {},
   "outputs": [
    {
     "data": {
      "text/plain": [
       "GRanges object with 89280 ranges and 1 metadata column:\n",
       "          seqnames              ranges strand |        name\n",
       "             <Rle>           <IRanges>  <Rle> | <character>\n",
       "      [1]     chr1       817097-817596      * |         501\n",
       "      [2]     chr1       820722-821221      * |         501\n",
       "      [3]     chr1       826609-827108      * |         501\n",
       "      [4]     chr1       827291-827790      * |         501\n",
       "      [5]     chr1       857896-858395      * |         501\n",
       "      ...      ...                 ...    ... .         ...\n",
       "  [89276]     chrX 155611289-155611788      * |         501\n",
       "  [89277]     chrX 155612712-155613211      * |         501\n",
       "  [89278]     chrX 155632372-155632871      * |         501\n",
       "  [89279]     chrX 155841284-155841783      * |         501\n",
       "  [89280]     chrX 155881050-155881549      * |         501\n",
       "  -------\n",
       "  seqinfo: 23 sequences from an unspecified genome; no seqlengths"
      ]
     },
     "metadata": {},
     "output_type": "display_data"
    }
   ],
   "source": [
    "all.atac.peaks"
   ]
  },
  {
   "cell_type": "code",
   "execution_count": 4,
   "id": "48c87aee",
   "metadata": {},
   "outputs": [],
   "source": [
    "names(all.atac.peaks) <- sapply(1:length(all.atac.peaks), function(i) paste(\"peak\", i, sep=\"\"))"
   ]
  },
  {
   "cell_type": "code",
   "execution_count": 5,
   "id": "9d5c4070",
   "metadata": {},
   "outputs": [
    {
     "data": {
      "text/plain": [
       "GRanges object with 89280 ranges and 1 metadata column:\n",
       "            seqnames              ranges strand |        name\n",
       "               <Rle>           <IRanges>  <Rle> | <character>\n",
       "      peak1     chr1       817097-817596      * |         501\n",
       "      peak2     chr1       820722-821221      * |         501\n",
       "      peak3     chr1       826609-827108      * |         501\n",
       "      peak4     chr1       827291-827790      * |         501\n",
       "      peak5     chr1       857896-858395      * |         501\n",
       "        ...      ...                 ...    ... .         ...\n",
       "  peak89276     chrX 155611289-155611788      * |         501\n",
       "  peak89277     chrX 155612712-155613211      * |         501\n",
       "  peak89278     chrX 155632372-155632871      * |         501\n",
       "  peak89279     chrX 155841284-155841783      * |         501\n",
       "  peak89280     chrX 155881050-155881549      * |         501\n",
       "  -------\n",
       "  seqinfo: 23 sequences from an unspecified genome; no seqlengths"
      ]
     },
     "metadata": {},
     "output_type": "display_data"
    }
   ],
   "source": [
    "all.atac.peaks"
   ]
  },
  {
   "cell_type": "code",
   "execution_count": 6,
   "id": "virgin-claim",
   "metadata": {},
   "outputs": [],
   "source": [
    "# load bam coverage file (big wig format)\n",
    "atac.signal <- rtracklayer::import(\"sc_atac.bw\", as = \"RleList\")"
   ]
  },
  {
   "cell_type": "code",
   "execution_count": 7,
   "id": "appropriate-hammer",
   "metadata": {},
   "outputs": [
    {
     "data": {
      "text/plain": [
       "RleList of length 6\n",
       "$chr1\n",
       "numeric-Rle of length 248956422 with 13515643 runs\n",
       "  Lengths:       9870          4          1 ...          1       9889\n",
       "  Values :   0.000000   0.111950   0.139938 ...  0.0279876  0.0000000\n",
       "\n",
       "$chr10\n",
       "numeric-Rle of length 133797422 with 6297921 runs\n",
       "  Lengths:       9883          4          1 ...          6       9891\n",
       "  Values :  0.0000000  0.0279876  0.0559751 ...  0.0279876  0.0000000\n",
       "\n",
       "$chr11\n",
       "numeric-Rle of length 135086622 with 6862840 runs\n",
       "  Lengths:     61286       245         9 ...         1         5      9877\n",
       "  Values : 0.0000000 0.0559751 0.1119500 ... 0.1399380 0.0559751 0.0000000\n",
       "\n",
       "$chr12\n",
       "numeric-Rle of length 133275309 with 7001202 runs\n",
       "  Lengths:       9883          6         51 ...         22       9866\n",
       "  Values :  0.0000000  0.0279876  0.0559751 ...  0.0279876  0.0000000\n",
       "\n",
       "$chr13\n",
       "numeric-Rle of length 114364328 with 3156346 runs\n",
       "  Lengths:  16002120        43       420 ...         8       106      9871\n",
       "  Values : 0.0000000 0.0559751 0.0000000 ... 0.0559751 0.0279876 0.0000000\n",
       "\n",
       "...\n",
       "<1 more element>"
      ]
     },
     "metadata": {},
     "output_type": "display_data"
    }
   ],
   "source": [
    "head(atac.signal)"
   ]
  },
  {
   "cell_type": "code",
   "execution_count": 8,
   "id": "daily-calvin",
   "metadata": {},
   "outputs": [],
   "source": [
    "# subsetting the bam coverage by archR picked peaks\n",
    "peaks.signal <- atac.signal[all.atac.peaks]"
   ]
  },
  {
   "cell_type": "code",
   "execution_count": 9,
   "id": "aboriginal-girlfriend",
   "metadata": {},
   "outputs": [],
   "source": [
    "names(peaks.signal) <- names(all.atac.peaks)"
   ]
  },
  {
   "cell_type": "code",
   "execution_count": 11,
   "id": "elder-parallel",
   "metadata": {
    "scrolled": true
   },
   "outputs": [
    {
     "data": {
      "text/plain": [
       "numeric-Rle of length 500 with 333 runs\n",
       "  Lengths:        2        5        3        1 ...        1        1        1\n",
       "  Values :  7.58463  7.52865  7.64060  7.75255 ...  9.93558  9.76766  9.73967"
      ]
     },
     "metadata": {},
     "output_type": "display_data"
    }
   ],
   "source": [
    "peaks.signal$peak1"
   ]
  },
  {
   "cell_type": "code",
   "execution_count": 16,
   "id": "academic-regular",
   "metadata": {},
   "outputs": [],
   "source": [
    "# summit calling using biosignals package from Leslie Lab: https://bitbucket.org/leslielab/biosignals\n",
    "findVectorMax <- function(v, g0, g1, g2, min.dist = 100) {\n",
    "    v.conv <- convolve1d(as.numeric(v), g0)\n",
    "    v.conv.d1 <- convolve1d(as.numeric(v), g1)\n",
    "    v.conv.d2 <- convolve1d(as.numeric(v), g2)\n",
    "    v.conv.d1.zero <- zeroCrossings(v.conv.d1)\n",
    "    points.max <- v.conv.d1.zero[v.conv.d2[v.conv.d1.zero] < 0]\n",
    "    if (length(points.max) == 0) {\n",
    "        return(c())\n",
    "    }\n",
    "    points.max <- data.table(x = points.max)\n",
    "    points.max$value <- v.conv[points.max$x]\n",
    "    points.max <- points.max[order(-value)]\n",
    "    vector.max <- c()\n",
    "    for (i in 1:nrow(points.max)) {\n",
    "        x <- points.max[i, ][, x]\n",
    "        if (min(abs(x - c(vector.max, 0, length(v)))) >= min.dist) {\n",
    "            vector.max <- c(vector.max, x)\n",
    "        }\n",
    "    }\n",
    "    vector.max\n",
    "}\n"
   ]
  },
  {
   "cell_type": "code",
   "execution_count": null,
   "id": "41c007bc",
   "metadata": {},
   "outputs": [],
   "source": []
  },
  {
   "cell_type": "code",
   "execution_count": 17,
   "id": "forty-invasion",
   "metadata": {},
   "outputs": [],
   "source": [
    "gen_kernels <- function(bw) {\n",
    "    g0 <- generateKernel(\"gaussian\", bandwidth = bw, deriv = 0)\n",
    "    g1 <- generateKernel(\"gaussian\", bandwidth = bw, deriv = 1)\n",
    "    g2 <- generateKernel(\"gaussian\", bandwidth = bw, deriv = 2)\n",
    "    list(\"g0\"=g0, \"g1\"=g1, \"g2\"=g2)\n",
    "}"
   ]
  },
  {
   "cell_type": "code",
   "execution_count": 18,
   "id": "encouraging-athens",
   "metadata": {
    "scrolled": true
   },
   "outputs": [],
   "source": [
    "kernels <- gen_kernels(150)\n",
    "peaks.summits <- sapply(peaks.signal, function(peak) findVectorMax(peak, kernels$g0, kernels$g1, kernels$g2))"
   ]
  },
  {
   "cell_type": "code",
   "execution_count": 19,
   "id": "official-marshall",
   "metadata": {},
   "outputs": [
    {
     "data": {
      "text/html": [
       "15926"
      ],
      "text/latex": [
       "15926"
      ],
      "text/markdown": [
       "15926"
      ],
      "text/plain": [
       "[1] 15926"
      ]
     },
     "metadata": {},
     "output_type": "display_data"
    }
   ],
   "source": [
    "summit.count <- sapply(peaks.summits, length)\n",
    "peaks.s0.signal <- peaks.signal[summit.count == 0]\n",
    "length(peaks.s0.signal)"
   ]
  },
  {
   "cell_type": "code",
   "execution_count": 20,
   "id": "dominican-night",
   "metadata": {},
   "outputs": [
    {
     "data": {
      "text/html": [
       "73354"
      ],
      "text/latex": [
       "73354"
      ],
      "text/markdown": [
       "73354"
      ],
      "text/plain": [
       "[1] 73354"
      ]
     },
     "metadata": {},
     "output_type": "display_data"
    }
   ],
   "source": [
    "length(peaks.signal[summit.count > 0])"
   ]
  },
  {
   "cell_type": "code",
   "execution_count": 21,
   "id": "moderate-outline",
   "metadata": {},
   "outputs": [
    {
     "data": {
      "text/html": [
       "3"
      ],
      "text/latex": [
       "3"
      ],
      "text/markdown": [
       "3"
      ],
      "text/plain": [
       "[1] 3"
      ]
     },
     "metadata": {},
     "output_type": "display_data"
    }
   ],
   "source": [
    "max(summit.count)"
   ]
  },
  {
   "cell_type": "code",
   "execution_count": 22,
   "id": "superior-tactics",
   "metadata": {},
   "outputs": [
    {
     "name": "stdout",
     "output_type": "stream",
     "text": [
      "[1] \"here\"\n"
     ]
    }
   ],
   "source": [
    "print(\"here\")"
   ]
  },
  {
   "cell_type": "markdown",
   "id": "acceptable-accommodation",
   "metadata": {},
   "source": [
    "## now use smaller min distance, same kernel bandwidth"
   ]
  },
  {
   "cell_type": "code",
   "execution_count": 26,
   "id": "super-engagement",
   "metadata": {},
   "outputs": [],
   "source": [
    "peaks.s0.summits <- sapply(peaks.s0.signal, findVectorMax, g0 = kernels$g0, g1 = kernels$g1, g2 = kernels$g2,\n",
    "                           min.dist = 50)\n",
    "\n",
    "summit.s0.count <- sapply(peaks.s0.summits, length)\n",
    "peaks.s0.s0.signal <- peaks.s0.signal[summit.s0.count == 0]\n",
    "peaks.s0.s0.signal.max <- sapply(peaks.s0.s0.signal, max)\n",
    "peaks.s0.s0.signal.high <- peaks.s0.s0.signal[peaks.s0.s0.signal.max > 0.5]"
   ]
  },
  {
   "cell_type": "code",
   "execution_count": 27,
   "id": "introductory-invitation",
   "metadata": {},
   "outputs": [
    {
     "name": "stdout",
     "output_type": "stream",
     "text": [
      "[1] 13988\n"
     ]
    }
   ],
   "source": [
    "print(length(peaks.s0.s0.signal))"
   ]
  },
  {
   "cell_type": "code",
   "execution_count": 28,
   "id": "hungry-timeline",
   "metadata": {},
   "outputs": [
    {
     "name": "stdout",
     "output_type": "stream",
     "text": [
      "[1] 1938\n"
     ]
    }
   ],
   "source": [
    "print(sum(summit.s0.count > 0))"
   ]
  },
  {
   "cell_type": "code",
   "execution_count": 29,
   "id": "smooth-clothing",
   "metadata": {},
   "outputs": [
    {
     "name": "stdout",
     "output_type": "stream",
     "text": [
      "[1] 13988\n"
     ]
    }
   ],
   "source": [
    "print(sum(summit.s0.count == 0))"
   ]
  },
  {
   "cell_type": "code",
   "execution_count": 30,
   "id": "jewish-platinum",
   "metadata": {},
   "outputs": [
    {
     "data": {
      "text/html": [
       "13986"
      ],
      "text/latex": [
       "13986"
      ],
      "text/markdown": [
       "13986"
      ],
      "text/plain": [
       "[1] 13986"
      ]
     },
     "metadata": {},
     "output_type": "display_data"
    }
   ],
   "source": [
    "length(peaks.s0.s0.signal.high)"
   ]
  },
  {
   "cell_type": "markdown",
   "id": "literary-forge",
   "metadata": {},
   "source": [
    "## now use smaller bandwidth "
   ]
  },
  {
   "cell_type": "code",
   "execution_count": 31,
   "id": "universal-deficit",
   "metadata": {},
   "outputs": [],
   "source": [
    "kernels_100bw <- gen_kernels(100)\n",
    "peaks.s0.s0.high.summits <- sapply(peaks.s0.s0.signal.high, findVectorMax, g0 = kernels_100bw$g0, \n",
    "                                   g1 = kernels_100bw$g1, g2 = kernels_100bw$g2)\n"
   ]
  },
  {
   "cell_type": "code",
   "execution_count": 32,
   "id": "communist-quantum",
   "metadata": {},
   "outputs": [],
   "source": [
    "summit.s0.s0.high.count <- sapply(peaks.s0.s0.high.summits, length)\n"
   ]
  },
  {
   "cell_type": "code",
   "execution_count": 33,
   "id": "paperback-horizon",
   "metadata": {},
   "outputs": [
    {
     "data": {
      "text/html": [
       "2726"
      ],
      "text/latex": [
       "2726"
      ],
      "text/markdown": [
       "2726"
      ],
      "text/plain": [
       "[1] 2726"
      ]
     },
     "metadata": {},
     "output_type": "display_data"
    }
   ],
   "source": [
    "sum(summit.s0.s0.high.count > 0)"
   ]
  },
  {
   "cell_type": "code",
   "execution_count": 34,
   "id": "advised-excess",
   "metadata": {},
   "outputs": [
    {
     "data": {
      "text/html": [
       "11260"
      ],
      "text/latex": [
       "11260"
      ],
      "text/markdown": [
       "11260"
      ],
      "text/plain": [
       "[1] 11260"
      ]
     },
     "metadata": {},
     "output_type": "display_data"
    }
   ],
   "source": [
    "sum(summit.s0.s0.high.count == 0)"
   ]
  },
  {
   "cell_type": "code",
   "execution_count": 35,
   "id": "dietary-concentration",
   "metadata": {},
   "outputs": [],
   "source": [
    "peaks.summits.final <- c(peaks.summits[summit.count > 0],\n",
    "                         peaks.s0.summits[summit.s0.count > 0],\n",
    "                         peaks.s0.s0.high.summits[summit.s0.s0.high.count > 0])"
   ]
  },
  {
   "cell_type": "code",
   "execution_count": 36,
   "id": "elegant-parker",
   "metadata": {},
   "outputs": [
    {
     "data": {
      "text/html": [
       "78018"
      ],
      "text/latex": [
       "78018"
      ],
      "text/markdown": [
       "78018"
      ],
      "text/plain": [
       "[1] 78018"
      ]
     },
     "metadata": {},
     "output_type": "display_data"
    }
   ],
   "source": [
    "length(peaks.summits.final)"
   ]
  },
  {
   "cell_type": "code",
   "execution_count": 37,
   "id": "rocky-concentrate",
   "metadata": {},
   "outputs": [
    {
     "data": {
      "text/html": [
       "<dl>\n",
       "\t<dt>$peak1</dt>\n",
       "\t\t<dd>294</dd>\n",
       "\t<dt>$peak2</dt>\n",
       "\t\t<dd>240</dd>\n",
       "\t<dt>$peak4</dt>\n",
       "\t\t<dd>364</dd>\n",
       "\t<dt>$peak5</dt>\n",
       "\t\t<dd>249</dd>\n",
       "\t<dt>$peak6</dt>\n",
       "\t\t<dd>210</dd>\n",
       "\t<dt>$peak7</dt>\n",
       "\t\t<dd>280</dd>\n",
       "</dl>\n"
      ],
      "text/latex": [
       "\\begin{description}\n",
       "\\item[\\$peak1] 294\n",
       "\\item[\\$peak2] 240\n",
       "\\item[\\$peak4] 364\n",
       "\\item[\\$peak5] 249\n",
       "\\item[\\$peak6] 210\n",
       "\\item[\\$peak7] 280\n",
       "\\end{description}\n"
      ],
      "text/markdown": [
       "$peak1\n",
       ":   294\n",
       "$peak2\n",
       ":   240\n",
       "$peak4\n",
       ":   364\n",
       "$peak5\n",
       ":   249\n",
       "$peak6\n",
       ":   210\n",
       "$peak7\n",
       ":   280\n",
       "\n",
       "\n"
      ],
      "text/plain": [
       "$peak1\n",
       "[1] 294\n",
       "\n",
       "$peak2\n",
       "[1] 240\n",
       "\n",
       "$peak4\n",
       "[1] 364\n",
       "\n",
       "$peak5\n",
       "[1] 249\n",
       "\n",
       "$peak6\n",
       "[1] 210\n",
       "\n",
       "$peak7\n",
       "[1] 280\n"
      ]
     },
     "metadata": {},
     "output_type": "display_data"
    }
   ],
   "source": [
    "head(peaks.summits.final)"
   ]
  },
  {
   "cell_type": "code",
   "execution_count": 38,
   "id": "twelve-antenna",
   "metadata": {},
   "outputs": [
    {
     "data": {
      "text/html": [
       "<dl>\n",
       "\t<dt>$peak89141</dt>\n",
       "\t\t<dd>314</dd>\n",
       "\t<dt>$peak89147</dt>\n",
       "\t\t<dd>400</dd>\n",
       "\t<dt>$peak89148</dt>\n",
       "\t\t<dd><style>\n",
       ".list-inline {list-style: none; margin:0; padding: 0}\n",
       ".list-inline>li {display: inline-block}\n",
       ".list-inline>li:not(:last-child)::after {content: \"\\00b7\"; padding: 0 .5ex}\n",
       "</style>\n",
       "<ol class=list-inline><li>145</li><li>252</li><li>400</li></ol>\n",
       "</dd>\n",
       "\t<dt>$peak89163</dt>\n",
       "\t\t<dd>298</dd>\n",
       "\t<dt>$peak89167</dt>\n",
       "\t\t<dd>323</dd>\n",
       "\t<dt>$peak89176</dt>\n",
       "\t\t<dd>298</dd>\n",
       "</dl>\n"
      ],
      "text/latex": [
       "\\begin{description}\n",
       "\\item[\\$peak89141] 314\n",
       "\\item[\\$peak89147] 400\n",
       "\\item[\\$peak89148] \\begin{enumerate*}\n",
       "\\item 145\n",
       "\\item 252\n",
       "\\item 400\n",
       "\\end{enumerate*}\n",
       "\n",
       "\\item[\\$peak89163] 298\n",
       "\\item[\\$peak89167] 323\n",
       "\\item[\\$peak89176] 298\n",
       "\\end{description}\n"
      ],
      "text/markdown": [
       "$peak89141\n",
       ":   314\n",
       "$peak89147\n",
       ":   400\n",
       "$peak89148\n",
       ":   1. 145\n",
       "2. 252\n",
       "3. 400\n",
       "\n",
       "\n",
       "\n",
       "$peak89163\n",
       ":   298\n",
       "$peak89167\n",
       ":   323\n",
       "$peak89176\n",
       ":   298\n",
       "\n",
       "\n"
      ],
      "text/plain": [
       "$peak89141\n",
       "[1] 314\n",
       "\n",
       "$peak89147\n",
       "[1] 400\n",
       "\n",
       "$peak89148\n",
       "[1] 145 252 400\n",
       "\n",
       "$peak89163\n",
       "[1] 298\n",
       "\n",
       "$peak89167\n",
       "[1] 323\n",
       "\n",
       "$peak89176\n",
       "[1] 298\n"
      ]
     },
     "metadata": {},
     "output_type": "display_data"
    }
   ],
   "source": [
    "tail(peaks.summits.final)"
   ]
  },
  {
   "cell_type": "code",
   "execution_count": 39,
   "id": "alternative-skirt",
   "metadata": {},
   "outputs": [
    {
     "data": {
      "text/html": [
       "89280"
      ],
      "text/latex": [
       "89280"
      ],
      "text/markdown": [
       "89280"
      ],
      "text/plain": [
       "[1] 89280"
      ]
     },
     "metadata": {},
     "output_type": "display_data"
    }
   ],
   "source": [
    "length(peaks.signal)"
   ]
  },
  {
   "cell_type": "code",
   "execution_count": 40,
   "id": "approved-survival",
   "metadata": {},
   "outputs": [
    {
     "data": {
      "text/plain": [
       "numeric-Rle of length 500 with 167 runs\n",
       "  Lengths:      16       1       4       4 ...       7       1       4       7\n",
       "  Values : 2.49089 2.37894 2.49089 2.43492 ... 3.13461 3.07863 3.24656 3.27454"
      ]
     },
     "metadata": {},
     "output_type": "display_data"
    }
   ],
   "source": [
    "peaks.signal$peak2"
   ]
  },
  {
   "cell_type": "code",
   "execution_count": 41,
   "id": "fantastic-license",
   "metadata": {},
   "outputs": [
    {
     "data": {
      "text/plain": [
       "numeric-Rle of length 1 with 1 run\n",
       "  Lengths:       1\n",
       "  Values : 3.02266"
      ]
     },
     "metadata": {},
     "output_type": "display_data"
    }
   ],
   "source": [
    "peaks.signal$peak2[448]"
   ]
  },
  {
   "cell_type": "code",
   "execution_count": 42,
   "id": "referenced-arcade",
   "metadata": {},
   "outputs": [
    {
     "data": {
      "text/html": [
       "3.61039996147156"
      ],
      "text/latex": [
       "3.61039996147156"
      ],
      "text/markdown": [
       "3.61039996147156"
      ],
      "text/plain": [
       "[1] 3.6104"
      ]
     },
     "metadata": {},
     "output_type": "display_data"
    }
   ],
   "source": [
    "max(peaks.signal$peak2)"
   ]
  },
  {
   "cell_type": "code",
   "execution_count": 43,
   "id": "ongoing-craps",
   "metadata": {},
   "outputs": [
    {
     "data": {
      "text/html": [
       "500"
      ],
      "text/latex": [
       "500"
      ],
      "text/markdown": [
       "500"
      ],
      "text/plain": [
       "[1] 500"
      ]
     },
     "metadata": {},
     "output_type": "display_data"
    }
   ],
   "source": [
    "length(peaks.signal$peak2)"
   ]
  },
  {
   "cell_type": "code",
   "execution_count": null,
   "id": "overall-stephen",
   "metadata": {},
   "outputs": [],
   "source": []
  },
  {
   "cell_type": "code",
   "execution_count": 44,
   "id": "level-snake",
   "metadata": {},
   "outputs": [],
   "source": [
    "saveRDS(peaks.summits.final, \"all-atac-peaks-summits-lists.rds\")"
   ]
  },
  {
   "cell_type": "markdown",
   "id": "matched-cleanup",
   "metadata": {},
   "source": [
    "# generate final set of regions around peak summits"
   ]
  },
  {
   "cell_type": "code",
   "execution_count": 45,
   "id": "still-minutes",
   "metadata": {},
   "outputs": [
    {
     "data": {
      "text/html": [
       "<dl>\n",
       "\t<dt>$peak89141</dt>\n",
       "\t\t<dd>314</dd>\n",
       "\t<dt>$peak89147</dt>\n",
       "\t\t<dd>400</dd>\n",
       "\t<dt>$peak89148</dt>\n",
       "\t\t<dd><style>\n",
       ".list-inline {list-style: none; margin:0; padding: 0}\n",
       ".list-inline>li {display: inline-block}\n",
       ".list-inline>li:not(:last-child)::after {content: \"\\00b7\"; padding: 0 .5ex}\n",
       "</style>\n",
       "<ol class=list-inline><li>145</li><li>252</li><li>400</li></ol>\n",
       "</dd>\n",
       "\t<dt>$peak89163</dt>\n",
       "\t\t<dd>298</dd>\n",
       "\t<dt>$peak89167</dt>\n",
       "\t\t<dd>323</dd>\n",
       "\t<dt>$peak89176</dt>\n",
       "\t\t<dd>298</dd>\n",
       "</dl>\n"
      ],
      "text/latex": [
       "\\begin{description}\n",
       "\\item[\\$peak89141] 314\n",
       "\\item[\\$peak89147] 400\n",
       "\\item[\\$peak89148] \\begin{enumerate*}\n",
       "\\item 145\n",
       "\\item 252\n",
       "\\item 400\n",
       "\\end{enumerate*}\n",
       "\n",
       "\\item[\\$peak89163] 298\n",
       "\\item[\\$peak89167] 323\n",
       "\\item[\\$peak89176] 298\n",
       "\\end{description}\n"
      ],
      "text/markdown": [
       "$peak89141\n",
       ":   314\n",
       "$peak89147\n",
       ":   400\n",
       "$peak89148\n",
       ":   1. 145\n",
       "2. 252\n",
       "3. 400\n",
       "\n",
       "\n",
       "\n",
       "$peak89163\n",
       ":   298\n",
       "$peak89167\n",
       ":   323\n",
       "$peak89176\n",
       ":   298\n",
       "\n",
       "\n"
      ],
      "text/plain": [
       "$peak89141\n",
       "[1] 314\n",
       "\n",
       "$peak89147\n",
       "[1] 400\n",
       "\n",
       "$peak89148\n",
       "[1] 145 252 400\n",
       "\n",
       "$peak89163\n",
       "[1] 298\n",
       "\n",
       "$peak89167\n",
       "[1] 323\n",
       "\n",
       "$peak89176\n",
       "[1] 298\n"
      ]
     },
     "metadata": {},
     "output_type": "display_data"
    }
   ],
   "source": [
    "tail(peaks.summits.final)"
   ]
  },
  {
   "cell_type": "code",
   "execution_count": 46,
   "id": "forced-stocks",
   "metadata": {},
   "outputs": [
    {
     "name": "stdout",
     "output_type": "stream",
     "text": [
      "[1] \"prepare final set of regions around peak summits\"\n"
     ]
    }
   ],
   "source": [
    "print(\"prepare final set of regions around peak summits\")\n",
    "summit.width <- 150\n",
    "peaks.summits.dt <- data.table(ldply(peaks.summits.final, matrix, .id = \"peak\"))\n",
    "colnames(peaks.summits.dt) <- c(\"peak\", \"summit\")\n",
    "peaks.summits <- all.atac.peaks[peaks.summits.dt$peak, ]"
   ]
  },
  {
   "cell_type": "code",
   "execution_count": 47,
   "id": "charitable-murray",
   "metadata": {},
   "outputs": [],
   "source": [
    "stopifnot(start(peaks.summits) + peaks.summits.dt$summit <= end(peaks.summits))\n",
    "start(peaks.summits) <- start(peaks.summits) + peaks.summits.dt$summit\n",
    "end(peaks.summits) <- start(peaks.summits)"
   ]
  },
  {
   "cell_type": "code",
   "execution_count": 48,
   "id": "looking-garbage",
   "metadata": {},
   "outputs": [
    {
     "data": {
      "text/plain": [
       "GRanges object with 79036 ranges and 2 metadata columns:\n",
       "            seqnames    ranges strand |        name        peak\n",
       "               <Rle> <IRanges>  <Rle> | <character> <character>\n",
       "      peak1     chr1    817391      * |         501       peak1\n",
       "      peak2     chr1    820962      * |         501       peak2\n",
       "      peak4     chr1    827655      * |         501       peak4\n",
       "      peak5     chr1    858145      * |         501       peak5\n",
       "      peak6     chr1    865811      * |         501       peak6\n",
       "        ...      ...       ...    ... .         ...         ...\n",
       "  peak89148     chrX 153941743      * |         501   peak89148\n",
       "  peak89148     chrX 153941891      * |         501   peak89148\n",
       "  peak89163     chrX 153982739      * |         501   peak89163\n",
       "  peak89167     chrX 154002379      * |         501   peak89167\n",
       "  peak89176     chrX 154096595      * |         501   peak89176\n",
       "  -------\n",
       "  seqinfo: 23 sequences from an unspecified genome; no seqlengths"
      ]
     },
     "metadata": {},
     "output_type": "display_data"
    }
   ],
   "source": [
    "peaks.summits$peak <- names(peaks.summits)\n",
    "peaks.summits"
   ]
  },
  {
   "cell_type": "code",
   "execution_count": 49,
   "id": "material-berlin",
   "metadata": {},
   "outputs": [
    {
     "data": {
      "text/plain": [
       "GRanges object with 79036 ranges and 3 metadata columns:\n",
       "            seqnames    ranges strand |        name        peak\n",
       "               <Rle> <IRanges>  <Rle> | <character> <character>\n",
       "      peak1     chr1    817391      * |         501       peak1\n",
       "      peak2     chr1    820962      * |         501       peak2\n",
       "      peak4     chr1    827655      * |         501       peak4\n",
       "      peak5     chr1    858145      * |         501       peak5\n",
       "      peak6     chr1    865811      * |         501       peak6\n",
       "        ...      ...       ...    ... .         ...         ...\n",
       "  peak89148     chrX 153941743      * |         501   peak89148\n",
       "  peak89148     chrX 153941891      * |         501   peak89148\n",
       "  peak89163     chrX 153982739      * |         501   peak89163\n",
       "  peak89167     chrX 154002379      * |         501   peak89167\n",
       "  peak89176     chrX 154096595      * |         501   peak89176\n",
       "                     peak_position\n",
       "                       <character>\n",
       "      peak1     chr1:817097-817596\n",
       "      peak2     chr1:820722-821221\n",
       "      peak4     chr1:827291-827790\n",
       "      peak5     chr1:857896-858395\n",
       "      peak6     chr1:865601-866100\n",
       "        ...                    ...\n",
       "  peak89148 chrX:153941491-15394..\n",
       "  peak89148 chrX:153941491-15394..\n",
       "  peak89163 chrX:153982441-15398..\n",
       "  peak89167 chrX:154002056-15400..\n",
       "  peak89176 chrX:154096297-15409..\n",
       "  -------\n",
       "  seqinfo: 23 sequences from an unspecified genome; no seqlengths"
      ]
     },
     "metadata": {},
     "output_type": "display_data"
    }
   ],
   "source": [
    "peaks.summits$peak_position <- sapply(peaks.summits$peak, function (pk) {\n",
    "    peak_info = all.atac.peaks[pk]\n",
    "    paste(seqnames(peak_info), \":\", start(ranges(peak_info)), \"-\", end(ranges(peak_info)), sep = \"\")\n",
    "})\n",
    "peaks.summits"
   ]
  },
  {
   "cell_type": "code",
   "execution_count": 50,
   "id": "textile-inspection",
   "metadata": {},
   "outputs": [],
   "source": [
    "peaks.summits$peak <- peaks.summits$name"
   ]
  },
  {
   "cell_type": "code",
   "execution_count": 51,
   "id": "adaptive-diameter",
   "metadata": {},
   "outputs": [],
   "source": [
    "peaks.summits <- sort(peaks.summits)\n",
    "peaks.summits$name <- paste0(\"summit\", seq_along(peaks.summits))"
   ]
  },
  {
   "cell_type": "code",
   "execution_count": 52,
   "id": "advised-crowd",
   "metadata": {},
   "outputs": [
    {
     "data": {
      "text/plain": [
       "GRanges object with 79036 ranges and 3 metadata columns:\n",
       "            seqnames    ranges strand |        name        peak\n",
       "               <Rle> <IRanges>  <Rle> | <character> <character>\n",
       "      peak1     chr1    817391      * |     summit1         501\n",
       "      peak2     chr1    820962      * |     summit2         501\n",
       "      peak4     chr1    827655      * |     summit3         501\n",
       "      peak5     chr1    858145      * |     summit4         501\n",
       "      peak6     chr1    865811      * |     summit5         501\n",
       "        ...      ...       ...    ... .         ...         ...\n",
       "  peak89276     chrX 155611564      * | summit79032         501\n",
       "  peak89277     chrX 155612866      * | summit79033         501\n",
       "  peak89278     chrX 155632683      * | summit79034         501\n",
       "  peak89279     chrX 155841526      * | summit79035         501\n",
       "  peak89280     chrX 155881294      * | summit79036         501\n",
       "                     peak_position\n",
       "                       <character>\n",
       "      peak1     chr1:817097-817596\n",
       "      peak2     chr1:820722-821221\n",
       "      peak4     chr1:827291-827790\n",
       "      peak5     chr1:857896-858395\n",
       "      peak6     chr1:865601-866100\n",
       "        ...                    ...\n",
       "  peak89276 chrX:155611289-15561..\n",
       "  peak89277 chrX:155612712-15561..\n",
       "  peak89278 chrX:155632372-15563..\n",
       "  peak89279 chrX:155841284-15584..\n",
       "  peak89280 chrX:155881050-15588..\n",
       "  -------\n",
       "  seqinfo: 23 sequences from an unspecified genome; no seqlengths"
      ]
     },
     "metadata": {},
     "output_type": "display_data"
    }
   ],
   "source": [
    "peaks.summits"
   ]
  },
  {
   "cell_type": "code",
   "execution_count": 55,
   "id": "explicit-corruption",
   "metadata": {},
   "outputs": [],
   "source": [
    "names(peaks.summits) <- peaks.summits$name\n",
    "peaks.summits <- resize(peaks.summits, width = summit.width, fix = \"center\")"
   ]
  },
  {
   "cell_type": "code",
   "execution_count": 56,
   "id": "previous-macintosh",
   "metadata": {},
   "outputs": [
    {
     "data": {
      "text/plain": [
       "GRanges object with 79036 ranges and 3 metadata columns:\n",
       "              seqnames              ranges strand |        name        peak\n",
       "                 <Rle>           <IRanges>  <Rle> | <character> <character>\n",
       "      summit1     chr1       817316-817465      * |     summit1         501\n",
       "      summit2     chr1       820887-821036      * |     summit2         501\n",
       "      summit3     chr1       827580-827729      * |     summit3         501\n",
       "      summit4     chr1       858070-858219      * |     summit4         501\n",
       "      summit5     chr1       865736-865885      * |     summit5         501\n",
       "          ...      ...                 ...    ... .         ...         ...\n",
       "  summit79032     chrX 155611489-155611638      * | summit79032         501\n",
       "  summit79033     chrX 155612791-155612940      * | summit79033         501\n",
       "  summit79034     chrX 155632608-155632757      * | summit79034         501\n",
       "  summit79035     chrX 155841451-155841600      * | summit79035         501\n",
       "  summit79036     chrX 155881219-155881368      * | summit79036         501\n",
       "                       peak_position\n",
       "                         <character>\n",
       "      summit1     chr1:817097-817596\n",
       "      summit2     chr1:820722-821221\n",
       "      summit3     chr1:827291-827790\n",
       "      summit4     chr1:857896-858395\n",
       "      summit5     chr1:865601-866100\n",
       "          ...                    ...\n",
       "  summit79032 chrX:155611289-15561..\n",
       "  summit79033 chrX:155612712-15561..\n",
       "  summit79034 chrX:155632372-15563..\n",
       "  summit79035 chrX:155841284-15584..\n",
       "  summit79036 chrX:155881050-15588..\n",
       "  -------\n",
       "  seqinfo: 23 sequences from an unspecified genome; no seqlengths"
      ]
     },
     "metadata": {},
     "output_type": "display_data"
    }
   ],
   "source": [
    "peaks.summits"
   ]
  },
  {
   "cell_type": "code",
   "execution_count": 57,
   "id": "terminal-excess",
   "metadata": {},
   "outputs": [],
   "source": [
    "export(peaks.summits, \"all-atac-summits.bed\")\n",
    "saveRDS(peaks.summits, \"all-atac-summits.rds\")"
   ]
  },
  {
   "cell_type": "code",
   "execution_count": 58,
   "id": "recognized-symbol",
   "metadata": {},
   "outputs": [],
   "source": [
    "write.table(as.data.frame(peaks.summits), \"peak_summits.more_info.bed\", quote= F, row.names = F, sep =\"\\t\")"
   ]
  },
  {
   "cell_type": "code",
   "execution_count": null,
   "id": "confused-paint",
   "metadata": {},
   "outputs": [],
   "source": []
  }
 ],
 "metadata": {
  "kernelspec": {
   "display_name": "archR",
   "language": "R",
   "name": "ir"
  },
  "language_info": {
   "codemirror_mode": "r",
   "file_extension": ".r",
   "mimetype": "text/x-r-source",
   "name": "R",
   "pygments_lexer": "r",
   "version": "4.1.3"
  }
 },
 "nbformat": 4,
 "nbformat_minor": 5
}

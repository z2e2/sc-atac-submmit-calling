{
 "cells": [
  {
   "cell_type": "markdown",
   "id": "colonial-destiny",
   "metadata": {},
   "source": [
    "## based on Yuri's script,  find_summits.R"
   ]
  },
  {
   "cell_type": "code",
   "execution_count": 1,
   "id": "palestinian-princess",
   "metadata": {
    "scrolled": true
   },
   "outputs": [
    {
     "name": "stderr",
     "output_type": "stream",
     "text": [
      "Loading required package: GenomicRanges\n",
      "\n",
      "Loading required package: stats4\n",
      "\n",
      "Loading required package: BiocGenerics\n",
      "\n",
      "\n",
      "Attaching package: ‘BiocGenerics’\n",
      "\n",
      "\n",
      "The following objects are masked from ‘package:stats’:\n",
      "\n",
      "    IQR, mad, sd, var, xtabs\n",
      "\n",
      "\n",
      "The following objects are masked from ‘package:base’:\n",
      "\n",
      "    anyDuplicated, append, as.data.frame, basename, cbind, colnames,\n",
      "    dirname, do.call, duplicated, eval, evalq, Filter, Find, get, grep,\n",
      "    grepl, intersect, is.unsorted, lapply, Map, mapply, match, mget,\n",
      "    order, paste, pmax, pmax.int, pmin, pmin.int, Position, rank,\n",
      "    rbind, Reduce, rownames, sapply, setdiff, sort, table, tapply,\n",
      "    union, unique, unsplit, which.max, which.min\n",
      "\n",
      "\n",
      "Loading required package: S4Vectors\n",
      "\n",
      "\n",
      "Attaching package: ‘S4Vectors’\n",
      "\n",
      "\n",
      "The following objects are masked from ‘package:base’:\n",
      "\n",
      "    expand.grid, I, unname\n",
      "\n",
      "\n",
      "Loading required package: IRanges\n",
      "\n",
      "Loading required package: GenomeInfoDb\n",
      "\n",
      "\n",
      "Attaching package: ‘plyr’\n",
      "\n",
      "\n",
      "The following object is masked from ‘package:IRanges’:\n",
      "\n",
      "    desc\n",
      "\n",
      "\n",
      "The following object is masked from ‘package:S4Vectors’:\n",
      "\n",
      "    rename\n",
      "\n",
      "\n",
      "── \u001b[1mAttaching packages\u001b[22m ─────────────────────────────────────── tidyverse 1.3.1 ──\n",
      "\n",
      "\u001b[32m✔\u001b[39m \u001b[34mggplot2\u001b[39m 3.3.6     \u001b[32m✔\u001b[39m \u001b[34mpurrr  \u001b[39m 0.3.4\n",
      "\u001b[32m✔\u001b[39m \u001b[34mtibble \u001b[39m 3.1.7     \u001b[32m✔\u001b[39m \u001b[34mdplyr  \u001b[39m 1.0.9\n",
      "\u001b[32m✔\u001b[39m \u001b[34mtidyr  \u001b[39m 1.2.0     \u001b[32m✔\u001b[39m \u001b[34mstringr\u001b[39m 1.4.0\n",
      "\u001b[32m✔\u001b[39m \u001b[34mreadr  \u001b[39m 2.1.2     \u001b[32m✔\u001b[39m \u001b[34mforcats\u001b[39m 0.5.1\n",
      "\n",
      "── \u001b[1mConflicts\u001b[22m ────────────────────────────────────────── tidyverse_conflicts() ──\n",
      "\u001b[31m✖\u001b[39m \u001b[34mdplyr\u001b[39m::\u001b[32marrange()\u001b[39m    masks \u001b[34mplyr\u001b[39m::arrange()\n",
      "\u001b[31m✖\u001b[39m \u001b[34mdplyr\u001b[39m::\u001b[32mcollapse()\u001b[39m   masks \u001b[34mIRanges\u001b[39m::collapse()\n",
      "\u001b[31m✖\u001b[39m \u001b[34mdplyr\u001b[39m::\u001b[32mcombine()\u001b[39m    masks \u001b[34mBiocGenerics\u001b[39m::combine()\n",
      "\u001b[31m✖\u001b[39m \u001b[34mpurrr\u001b[39m::\u001b[32mcompact()\u001b[39m    masks \u001b[34mplyr\u001b[39m::compact()\n",
      "\u001b[31m✖\u001b[39m \u001b[34mdplyr\u001b[39m::\u001b[32mcount()\u001b[39m      masks \u001b[34mplyr\u001b[39m::count()\n",
      "\u001b[31m✖\u001b[39m \u001b[34mdplyr\u001b[39m::\u001b[32mdesc()\u001b[39m       masks \u001b[34mplyr\u001b[39m::desc(), \u001b[34mIRanges\u001b[39m::desc()\n",
      "\u001b[31m✖\u001b[39m \u001b[34mtidyr\u001b[39m::\u001b[32mexpand()\u001b[39m     masks \u001b[34mS4Vectors\u001b[39m::expand()\n",
      "\u001b[31m✖\u001b[39m \u001b[34mdplyr\u001b[39m::\u001b[32mfailwith()\u001b[39m   masks \u001b[34mplyr\u001b[39m::failwith()\n",
      "\u001b[31m✖\u001b[39m \u001b[34mdplyr\u001b[39m::\u001b[32mfilter()\u001b[39m     masks \u001b[34mstats\u001b[39m::filter()\n",
      "\u001b[31m✖\u001b[39m \u001b[34mdplyr\u001b[39m::\u001b[32mfirst()\u001b[39m      masks \u001b[34mS4Vectors\u001b[39m::first()\n",
      "\u001b[31m✖\u001b[39m \u001b[34mdplyr\u001b[39m::\u001b[32mid()\u001b[39m         masks \u001b[34mplyr\u001b[39m::id()\n",
      "\u001b[31m✖\u001b[39m \u001b[34mdplyr\u001b[39m::\u001b[32mlag()\u001b[39m        masks \u001b[34mstats\u001b[39m::lag()\n",
      "\u001b[31m✖\u001b[39m \u001b[34mdplyr\u001b[39m::\u001b[32mmutate()\u001b[39m     masks \u001b[34mplyr\u001b[39m::mutate()\n",
      "\u001b[31m✖\u001b[39m \u001b[34mggplot2\u001b[39m::\u001b[32mPosition()\u001b[39m masks \u001b[34mBiocGenerics\u001b[39m::Position(), \u001b[34mbase\u001b[39m::Position()\n",
      "\u001b[31m✖\u001b[39m \u001b[34mpurrr\u001b[39m::\u001b[32mreduce()\u001b[39m     masks \u001b[34mGenomicRanges\u001b[39m::reduce(), \u001b[34mIRanges\u001b[39m::reduce()\n",
      "\u001b[31m✖\u001b[39m \u001b[34mdplyr\u001b[39m::\u001b[32mrename()\u001b[39m     masks \u001b[34mplyr\u001b[39m::rename(), \u001b[34mS4Vectors\u001b[39m::rename()\n",
      "\u001b[31m✖\u001b[39m \u001b[34mdplyr\u001b[39m::\u001b[32mslice()\u001b[39m      masks \u001b[34mIRanges\u001b[39m::slice()\n",
      "\u001b[31m✖\u001b[39m \u001b[34mdplyr\u001b[39m::\u001b[32msummarise()\u001b[39m  masks \u001b[34mplyr\u001b[39m::summarise()\n",
      "\u001b[31m✖\u001b[39m \u001b[34mdplyr\u001b[39m::\u001b[32msummarize()\u001b[39m  masks \u001b[34mplyr\u001b[39m::summarize()\n",
      "\n",
      "\n",
      "Attaching package: ‘data.table’\n",
      "\n",
      "\n",
      "The following objects are masked from ‘package:dplyr’:\n",
      "\n",
      "    between, first, last\n",
      "\n",
      "\n",
      "The following object is masked from ‘package:purrr’:\n",
      "\n",
      "    transpose\n",
      "\n",
      "\n",
      "The following object is masked from ‘package:GenomicRanges’:\n",
      "\n",
      "    shift\n",
      "\n",
      "\n",
      "The following object is masked from ‘package:IRanges’:\n",
      "\n",
      "    shift\n",
      "\n",
      "\n",
      "The following objects are masked from ‘package:S4Vectors’:\n",
      "\n",
      "    first, second\n",
      "\n",
      "\n"
     ]
    }
   ],
   "source": [
    "library(rtracklayer)\n",
    "library(GenomicRanges)\n",
    "library(plyr)\n",
    "library(tidyverse)\n",
    "library(data.table)\n",
    "\n",
    "library(biosignals)"
   ]
  },
  {
   "cell_type": "code",
   "execution_count": 2,
   "id": "c5e80a02",
   "metadata": {},
   "outputs": [],
   "source": [
    "root = '/Genomics/pritykinlab/zzhao/sc-atac-submmit-calling/sc-atac-submmit-calling'\n",
    "motif_regression_out = \"results/motif_regression_output/\"\n",
    "motif_regression_out = paste(root, motif_regression_out, sep=\"/\")\n",
    "# load peaks from archR, convert the format to bed first.\n",
    "all.atac.peaks <- rtracklayer::import(paste(motif_regression_out, \"MACS2_peaks.bed\", sep=\"/\"))"
   ]
  },
  {
   "cell_type": "code",
   "execution_count": 3,
   "id": "682bd123",
   "metadata": {},
   "outputs": [
    {
     "data": {
      "text/plain": [
       "GRanges object with 100 ranges and 1 metadata column:\n",
       "        seqnames          ranges strand |        name\n",
       "           <Rle>       <IRanges>  <Rle> | <character>\n",
       "    [1]     chr1     10017-10245      * |         230\n",
       "    [2]     chr1   180708-180967      * |         261\n",
       "    [3]     chr1   181337-181550      * |         215\n",
       "    [4]     chr1   191364-191898      * |         536\n",
       "    [5]     chr1   267887-268075      * |         190\n",
       "    ...      ...             ...    ... .         ...\n",
       "   [96]     chr1 1371275-1372309      * |        1036\n",
       "   [97]     chr1 1374781-1375689      * |         910\n",
       "   [98]     chr1 1385801-1385955      * |         156\n",
       "   [99]     chr1 1389747-1389951      * |         206\n",
       "  [100]     chr1 1398851-1399842      * |         993\n",
       "  -------\n",
       "  seqinfo: 16 sequences from an unspecified genome; no seqlengths"
      ]
     },
     "metadata": {},
     "output_type": "display_data"
    }
   ],
   "source": [
    "all.atac.peaks[1:100]"
   ]
  },
  {
   "cell_type": "code",
   "execution_count": 4,
   "id": "48c87aee",
   "metadata": {},
   "outputs": [],
   "source": [
    "names(all.atac.peaks) <- sapply(1:length(all.atac.peaks), function(i) paste(\"peak\", i, sep=\"\"))"
   ]
  },
  {
   "cell_type": "code",
   "execution_count": 5,
   "id": "9d5c4070",
   "metadata": {},
   "outputs": [
    {
     "data": {
      "text/plain": [
       "GRanges object with 76714 ranges and 1 metadata column:\n",
       "            seqnames              ranges strand |        name\n",
       "               <Rle>           <IRanges>  <Rle> | <character>\n",
       "      peak1     chr1         10017-10245      * |         230\n",
       "      peak2     chr1       180708-180967      * |         261\n",
       "      peak3     chr1       181337-181550      * |         215\n",
       "      peak4     chr1       191364-191898      * |         536\n",
       "      peak5     chr1       267887-268075      * |         190\n",
       "        ...      ...                 ...    ... .         ...\n",
       "  peak76710     chrX 155891443-155891682      * |         241\n",
       "  peak76711     chrX 155966944-155967143      * |         201\n",
       "  peak76712     chrX 155997284-155997767      * |         485\n",
       "  peak76713     chrX 156030040-156030260      * |         222\n",
       "  peak76714     chrX 156030504-156030679      * |         177\n",
       "  -------\n",
       "  seqinfo: 16 sequences from an unspecified genome; no seqlengths"
      ]
     },
     "metadata": {},
     "output_type": "display_data"
    }
   ],
   "source": [
    "all.atac.peaks"
   ]
  },
  {
   "cell_type": "code",
   "execution_count": 6,
   "id": "virgin-claim",
   "metadata": {},
   "outputs": [],
   "source": [
    "# load bam coverage file (big wig format)\n",
    "atac.signal <- rtracklayer::import(paste(motif_regression_out, \"sc_atac_fragments.bw\", sep=\"/\"), as = \"RleList\")"
   ]
  },
  {
   "cell_type": "code",
   "execution_count": 7,
   "id": "appropriate-hammer",
   "metadata": {},
   "outputs": [
    {
     "data": {
      "text/plain": [
       "RleList of length 6\n",
       "$chr1\n",
       "numeric-Rle of length 248956422 with 18263779 runs\n",
       "  Lengths: 10012     2    52     1     5 ...    17     1     5     1 10129\n",
       "  Values :     0     1     0     2     0 ...     0     1     0     1     0\n",
       "\n",
       "$chr10\n",
       "numeric-Rle of length 133797422 with 8933732 runs\n",
       "  Lengths: 10002     1   370     1    24 ...     4     1     5     2 10039\n",
       "  Values :     0     1     0     1     0 ...     0     4     0     1     0\n",
       "\n",
       "$chr11\n",
       "numeric-Rle of length 135086622 with 9666418 runs\n",
       "  Lengths: 113333      1     17      1    158 ...      1      4      1  10008\n",
       "  Values :      0      1      0      1      0 ...      1      0      1      0\n",
       "\n",
       "$chr12\n",
       "numeric-Rle of length 133275309 with 9976156 runs\n",
       "  Lengths: 10073     1     1     4     1 ...     3     1   403     1 10001\n",
       "  Values :     0     1     3     0     1 ...     0     1     0     1     0\n",
       "\n",
       "$chr13\n",
       "numeric-Rle of length 114364328 with 4668834 runs\n",
       "  Lengths: 17419451        1      294        1 ...       12        1    10121\n",
       "  Values :        0        1        0        1 ...        0        1        0\n",
       "\n",
       "...\n",
       "<1 more element>"
      ]
     },
     "metadata": {},
     "output_type": "display_data"
    }
   ],
   "source": [
    "head(atac.signal)"
   ]
  },
  {
   "cell_type": "code",
   "execution_count": 7,
   "id": "daily-calvin",
   "metadata": {},
   "outputs": [],
   "source": [
    "# subsetting the bam coverage by archR picked peaks\n",
    "peaks.signal <- atac.signal[all.atac.peaks]"
   ]
  },
  {
   "cell_type": "code",
   "execution_count": 8,
   "id": "aboriginal-girlfriend",
   "metadata": {},
   "outputs": [],
   "source": [
    "names(peaks.signal) <- names(all.atac.peaks)"
   ]
  },
  {
   "cell_type": "code",
   "execution_count": 9,
   "id": "elder-parallel",
   "metadata": {
    "scrolled": true
   },
   "outputs": [
    {
     "data": {
      "text/plain": [
       "numeric-Rle of length 229 with 72 runs\n",
       "  Lengths: 50  1  5  1  1  5  1  4  1  1  4 ...  1  5  1  6  1  3  1  1  2  2\n",
       "  Values :  0  2  0  2  1  0  6  0  3  4  0 ...  1  0  2  0  2  0  3  0  1  0"
      ]
     },
     "metadata": {},
     "output_type": "display_data"
    }
   ],
   "source": [
    "peaks.signal$peak1"
   ]
  },
  {
   "cell_type": "code",
   "execution_count": 10,
   "id": "academic-regular",
   "metadata": {},
   "outputs": [],
   "source": [
    "# summit calling using biosignals package from Leslie Lab: https://bitbucket.org/leslielab/biosignals\n",
    "findVectorMax <- function(v, g0, g1, g2, min.dist = 150) {\n",
    "    # pad zeros at the beginning and the end of the vector\n",
    "    bw = as.integer(length(g0)/2)\n",
    "    v = c(rep(0, bw), as.numeric(v), rep(0, bw))\n",
    "    v.conv <- convolve1d(v, g0)[(bw+1):(length(v)-bw)]\n",
    "    v.conv.d1 <- convolve1d(v, g1)[(bw+1):(length(v)-bw)]\n",
    "    v.conv.d2 <- convolve1d(v, g2)[(bw+1):(length(v)-bw)]\n",
    "    v.conv.d1.zero <- zeroCrossings(v.conv.d1)\n",
    "    points.max <- v.conv.d1.zero[v.conv.d2[v.conv.d1.zero] < 0]\n",
    "    if (length(points.max) == 0) {\n",
    "        return(c())\n",
    "    }\n",
    "    points.max <- data.table(x = points.max)\n",
    "    points.max$value <- v.conv[points.max$x]\n",
    "    points.max <- points.max[order(-value)]\n",
    "    vector.max <- c()\n",
    "    for (i in 1:nrow(points.max)) {\n",
    "        x <- points.max[i, ][, x]\n",
    "        # instead of compare against the 0 and length of v, \n",
    "        if (min(abs(x - c(vector.max, -min.dist, (length(v.conv)+min.dist)))) >= min.dist) {\n",
    "            vector.max <- c(vector.max, x)\n",
    "        }\n",
    "    }\n",
    "    vector.max\n",
    "}\n"
   ]
  },
  {
   "cell_type": "code",
   "execution_count": 11,
   "id": "forty-invasion",
   "metadata": {},
   "outputs": [],
   "source": [
    "gen_kernels <- function(bw) {\n",
    "    g0 <- generateKernel(\"gaussian\", bandwidth = bw, deriv = 0)\n",
    "    g1 <- generateKernel(\"gaussian\", bandwidth = bw, deriv = 1)\n",
    "    g2 <- generateKernel(\"gaussian\", bandwidth = bw, deriv = 2)\n",
    "    list(\"g0\"=g0, \"g1\"=g1, \"g2\"=g2)\n",
    "}"
   ]
  },
  {
   "cell_type": "code",
   "execution_count": 23,
   "id": "encouraging-athens",
   "metadata": {
    "scrolled": true
   },
   "outputs": [],
   "source": [
    "kernels <- gen_kernels(150)\n",
    "peaks.summits <- sapply(peaks.signal, function(peak) findVectorMax(peak, kernels$g0, kernels$g1, kernels$g2))"
   ]
  },
  {
   "cell_type": "code",
   "execution_count": 12,
   "id": "06f51aab",
   "metadata": {},
   "outputs": [],
   "source": [
    "peaks.summits <- readRDS(paste(motif_regression_out, \"SUMMITS-TMP-all-atac-peaks-summits-lists.rds\", sep=\"/\"))"
   ]
  },
  {
   "cell_type": "code",
   "execution_count": 16,
   "id": "2187a086",
   "metadata": {},
   "outputs": [
    {
     "data": {
      "text/html": [
       "<dl>\n",
       "\t<dt>$peak1</dt>\n",
       "\t\t<dd>155</dd>\n",
       "\t<dt>$peak2</dt>\n",
       "\t\t<dd>199</dd>\n",
       "\t<dt>$peak3</dt>\n",
       "\t\t<dd>129</dd>\n",
       "\t<dt>$peak4</dt>\n",
       "\t\t<dd><style>\n",
       ".list-inline {list-style: none; margin:0; padding: 0}\n",
       ".list-inline>li {display: inline-block}\n",
       ".list-inline>li:not(:last-child)::after {content: \"\\00b7\"; padding: 0 .5ex}\n",
       "</style>\n",
       "<ol class=list-inline><li>487</li><li>168</li></ol>\n",
       "</dd>\n",
       "\t<dt>$peak5</dt>\n",
       "\t\t<dd>118</dd>\n",
       "\t<dt>$peak6</dt>\n",
       "\t\t<dd>94</dd>\n",
       "\t<dt>$peak7</dt>\n",
       "\t\t<dd>106</dd>\n",
       "\t<dt>$peak8</dt>\n",
       "\t\t<dd>113</dd>\n",
       "\t<dt>$peak9</dt>\n",
       "\t\t<dd>117</dd>\n",
       "\t<dt>$peak10</dt>\n",
       "\t\t<dd><style>\n",
       ".list-inline {list-style: none; margin:0; padding: 0}\n",
       ".list-inline>li {display: inline-block}\n",
       ".list-inline>li:not(:last-child)::after {content: \"\\00b7\"; padding: 0 .5ex}\n",
       "</style>\n",
       "<ol class=list-inline><li>425</li><li>122</li></ol>\n",
       "</dd>\n",
       "</dl>\n"
      ],
      "text/latex": [
       "\\begin{description}\n",
       "\\item[\\$peak1] 155\n",
       "\\item[\\$peak2] 199\n",
       "\\item[\\$peak3] 129\n",
       "\\item[\\$peak4] \\begin{enumerate*}\n",
       "\\item 487\n",
       "\\item 168\n",
       "\\end{enumerate*}\n",
       "\n",
       "\\item[\\$peak5] 118\n",
       "\\item[\\$peak6] 94\n",
       "\\item[\\$peak7] 106\n",
       "\\item[\\$peak8] 113\n",
       "\\item[\\$peak9] 117\n",
       "\\item[\\$peak10] \\begin{enumerate*}\n",
       "\\item 425\n",
       "\\item 122\n",
       "\\end{enumerate*}\n",
       "\n",
       "\\end{description}\n"
      ],
      "text/markdown": [
       "$peak1\n",
       ":   155\n",
       "$peak2\n",
       ":   199\n",
       "$peak3\n",
       ":   129\n",
       "$peak4\n",
       ":   1. 487\n",
       "2. 168\n",
       "\n",
       "\n",
       "\n",
       "$peak5\n",
       ":   118\n",
       "$peak6\n",
       ":   94\n",
       "$peak7\n",
       ":   106\n",
       "$peak8\n",
       ":   113\n",
       "$peak9\n",
       ":   117\n",
       "$peak10\n",
       ":   1. 425\n",
       "2. 122\n",
       "\n",
       "\n",
       "\n",
       "\n",
       "\n"
      ],
      "text/plain": [
       "$peak1\n",
       "[1] 155\n",
       "\n",
       "$peak2\n",
       "[1] 199\n",
       "\n",
       "$peak3\n",
       "[1] 129\n",
       "\n",
       "$peak4\n",
       "[1] 487 168\n",
       "\n",
       "$peak5\n",
       "[1] 118\n",
       "\n",
       "$peak6\n",
       "[1] 94\n",
       "\n",
       "$peak7\n",
       "[1] 106\n",
       "\n",
       "$peak8\n",
       "[1] 113\n",
       "\n",
       "$peak9\n",
       "[1] 117\n",
       "\n",
       "$peak10\n",
       "[1] 425 122\n"
      ]
     },
     "metadata": {},
     "output_type": "display_data"
    }
   ],
   "source": [
    "head(peaks.summits, n=10)"
   ]
  },
  {
   "cell_type": "code",
   "execution_count": 17,
   "id": "official-marshall",
   "metadata": {},
   "outputs": [
    {
     "data": {
      "text/html": [
       "0"
      ],
      "text/latex": [
       "0"
      ],
      "text/markdown": [
       "0"
      ],
      "text/plain": [
       "[1] 0"
      ]
     },
     "metadata": {},
     "output_type": "display_data"
    }
   ],
   "source": [
    "summit.count <- sapply(peaks.summits, length)\n",
    "peaks.s0.signal <- peaks.signal[summit.count == 0]\n",
    "length(peaks.s0.signal)"
   ]
  },
  {
   "cell_type": "code",
   "execution_count": 20,
   "id": "dominican-night",
   "metadata": {},
   "outputs": [
    {
     "data": {
      "text/html": [
       "76714"
      ],
      "text/latex": [
       "76714"
      ],
      "text/markdown": [
       "76714"
      ],
      "text/plain": [
       "[1] 76714"
      ]
     },
     "metadata": {},
     "output_type": "display_data"
    }
   ],
   "source": [
    "length(peaks.signal[summit.count > 0])"
   ]
  },
  {
   "cell_type": "code",
   "execution_count": 19,
   "id": "moderate-outline",
   "metadata": {},
   "outputs": [
    {
     "data": {
      "text/html": [
       "15"
      ],
      "text/latex": [
       "15"
      ],
      "text/markdown": [
       "15"
      ],
      "text/plain": [
       "[1] 15"
      ]
     },
     "metadata": {},
     "output_type": "display_data"
    }
   ],
   "source": [
    "max(summit.count)"
   ]
  },
  {
   "cell_type": "code",
   "execution_count": 21,
   "id": "0dedf9e5",
   "metadata": {},
   "outputs": [],
   "source": [
    "peaks.summits.final <- peaks.summits"
   ]
  },
  {
   "cell_type": "code",
   "execution_count": 22,
   "id": "9cb4862d",
   "metadata": {},
   "outputs": [
    {
     "name": "stdout",
     "output_type": "stream",
     "text": [
      "[1] \"prepare final set of regions around peak summits\"\n"
     ]
    }
   ],
   "source": [
    "print(\"prepare final set of regions around peak summits\")\n",
    "summit.width <- 150\n",
    "peaks.summits.dt <- data.table(ldply(peaks.summits.final, matrix, .id = \"peak\"))\n",
    "colnames(peaks.summits.dt) <- c(\"peak\", \"summit\")\n",
    "peaks.summits <- all.atac.peaks[peaks.summits.dt$peak, ]"
   ]
  },
  {
   "cell_type": "code",
   "execution_count": 28,
   "id": "9ef068f7",
   "metadata": {},
   "outputs": [],
   "source": [
    "stopifnot(start(peaks.summits) + peaks.summits.dt$summit <= end(peaks.summits))\n",
    "start(peaks.summits) <- start(peaks.summits) + peaks.summits.dt$summit\n",
    "end(peaks.summits) <- start(peaks.summits)"
   ]
  },
  {
   "cell_type": "code",
   "execution_count": 30,
   "id": "356d96ba",
   "metadata": {},
   "outputs": [
    {
     "data": {
      "text/plain": [
       "GRanges object with 150007 ranges and 2 metadata columns:\n",
       "            seqnames    ranges strand |        name        peak\n",
       "               <Rle> <IRanges>  <Rle> | <character> <character>\n",
       "      peak1     chr1     10172      * |         230       peak1\n",
       "      peak2     chr1    180907      * |         261       peak2\n",
       "      peak3     chr1    181466      * |         215       peak3\n",
       "      peak4     chr1    191851      * |         536       peak4\n",
       "      peak4     chr1    191532      * |         536       peak4\n",
       "        ...      ...       ...    ... .         ...         ...\n",
       "  peak76710     chrX 155891611      * |         241   peak76710\n",
       "  peak76711     chrX 155967070      * |         201   peak76711\n",
       "  peak76712     chrX 155997600      * |         485   peak76712\n",
       "  peak76713     chrX 156030197      * |         222   peak76713\n",
       "  peak76714     chrX 156030613      * |         177   peak76714\n",
       "  -------\n",
       "  seqinfo: 16 sequences from an unspecified genome; no seqlengths"
      ]
     },
     "metadata": {},
     "output_type": "display_data"
    }
   ],
   "source": [
    "peaks.summits$peak <- names(peaks.summits)\n",
    "peaks.summits"
   ]
  },
  {
   "cell_type": "code",
   "execution_count": 31,
   "id": "3997ee05",
   "metadata": {},
   "outputs": [
    {
     "data": {
      "text/plain": [
       "GRanges object with 150007 ranges and 3 metadata columns:\n",
       "            seqnames    ranges strand |        name        peak\n",
       "               <Rle> <IRanges>  <Rle> | <character> <character>\n",
       "      peak1     chr1     10172      * |         230       peak1\n",
       "      peak2     chr1    180907      * |         261       peak2\n",
       "      peak3     chr1    181466      * |         215       peak3\n",
       "      peak4     chr1    191851      * |         536       peak4\n",
       "      peak4     chr1    191532      * |         536       peak4\n",
       "        ...      ...       ...    ... .         ...         ...\n",
       "  peak76710     chrX 155891611      * |         241   peak76710\n",
       "  peak76711     chrX 155967070      * |         201   peak76711\n",
       "  peak76712     chrX 155997600      * |         485   peak76712\n",
       "  peak76713     chrX 156030197      * |         222   peak76713\n",
       "  peak76714     chrX 156030613      * |         177   peak76714\n",
       "                     peak_position\n",
       "                       <character>\n",
       "      peak1       chr1:10017-10245\n",
       "      peak2     chr1:180708-180967\n",
       "      peak3     chr1:181337-181550\n",
       "      peak4     chr1:191364-191898\n",
       "      peak4     chr1:191364-191898\n",
       "        ...                    ...\n",
       "  peak76710 chrX:155891443-15589..\n",
       "  peak76711 chrX:155966944-15596..\n",
       "  peak76712 chrX:155997284-15599..\n",
       "  peak76713 chrX:156030040-15603..\n",
       "  peak76714 chrX:156030504-15603..\n",
       "  -------\n",
       "  seqinfo: 16 sequences from an unspecified genome; no seqlengths"
      ]
     },
     "metadata": {},
     "output_type": "display_data"
    }
   ],
   "source": [
    "peaks.summits$peak_position <- sapply(peaks.summits$peak, function (pk) {\n",
    "    peak_info = all.atac.peaks[pk]\n",
    "    paste(seqnames(peak_info), \":\", start(ranges(peak_info)), \"-\", end(ranges(peak_info)), sep = \"\")\n",
    "})\n",
    "peaks.summits"
   ]
  },
  {
   "cell_type": "code",
   "execution_count": 32,
   "id": "c5907efb",
   "metadata": {},
   "outputs": [],
   "source": [
    "peaks.summits$peak <- peaks.summits$name\n",
    "peaks.summits <- sort(peaks.summits)\n",
    "peaks.summits$name <- paste0(\"summit\", seq_along(peaks.summits))\n",
    "\n",
    "names(peaks.summits) <- peaks.summits$name\n",
    "peaks.summits <- resize(peaks.summits, width = summit.width, fix = \"center\")\n"
   ]
  },
  {
   "cell_type": "code",
   "execution_count": 33,
   "id": "82723cea",
   "metadata": {},
   "outputs": [
    {
     "data": {
      "text/plain": [
       "GRanges object with 150007 ranges and 3 metadata columns:\n",
       "               seqnames              ranges strand |         name        peak\n",
       "                  <Rle>           <IRanges>  <Rle> |  <character> <character>\n",
       "       summit1     chr1         10097-10246      * |      summit1         230\n",
       "       summit2     chr1       180832-180981      * |      summit2         261\n",
       "       summit3     chr1       181391-181540      * |      summit3         215\n",
       "       summit4     chr1       191457-191606      * |      summit4         536\n",
       "       summit5     chr1       191776-191925      * |      summit5         536\n",
       "           ...      ...                 ...    ... .          ...         ...\n",
       "  summit150003     chrX 155891536-155891685      * | summit150003         241\n",
       "  summit150004     chrX 155966995-155967144      * | summit150004         201\n",
       "  summit150005     chrX 155997525-155997674      * | summit150005         485\n",
       "  summit150006     chrX 156030122-156030271      * | summit150006         222\n",
       "  summit150007     chrX 156030538-156030687      * | summit150007         177\n",
       "                        peak_position\n",
       "                          <character>\n",
       "       summit1       chr1:10017-10245\n",
       "       summit2     chr1:180708-180967\n",
       "       summit3     chr1:181337-181550\n",
       "       summit4     chr1:191364-191898\n",
       "       summit5     chr1:191364-191898\n",
       "           ...                    ...\n",
       "  summit150003 chrX:155891443-15589..\n",
       "  summit150004 chrX:155966944-15596..\n",
       "  summit150005 chrX:155997284-15599..\n",
       "  summit150006 chrX:156030040-15603..\n",
       "  summit150007 chrX:156030504-15603..\n",
       "  -------\n",
       "  seqinfo: 16 sequences from an unspecified genome; no seqlengths"
      ]
     },
     "metadata": {},
     "output_type": "display_data"
    }
   ],
   "source": [
    "peaks.summits "
   ]
  },
  {
   "cell_type": "code",
   "execution_count": 34,
   "id": "437e5fd1",
   "metadata": {},
   "outputs": [],
   "source": [
    "write.table(as.data.frame(peaks.summits), paste(motif_regression_out, \"SUMMITS-peak_summits.more_info.bed\", sep=\"/\"), quote= F, row.names = F, sep =\"\\t\")\n",
    "\n",
    "\n",
    "export(peaks.summits, paste(motif_regression_out, \"SUMMITS-all-atac-summits.bed\", sep=\"/\"))\n"
   ]
  },
  {
   "cell_type": "code",
   "execution_count": null,
   "id": "f42252e9",
   "metadata": {},
   "outputs": [],
   "source": []
  },
  {
   "cell_type": "code",
   "execution_count": null,
   "id": "034713b4",
   "metadata": {},
   "outputs": [],
   "source": []
  },
  {
   "cell_type": "code",
   "execution_count": 56,
   "id": "superior-tactics",
   "metadata": {
    "scrolled": true
   },
   "outputs": [
    {
     "name": "stdout",
     "output_type": "stream",
     "text": [
      "[1] \"here\"\n"
     ]
    }
   ],
   "source": [
    "print(\"here\")"
   ]
  },
  {
   "cell_type": "markdown",
   "id": "acceptable-accommodation",
   "metadata": {},
   "source": [
    "## now use smaller min distance, same kernel bandwidth"
   ]
  },
  {
   "cell_type": "code",
   "execution_count": 52,
   "id": "super-engagement",
   "metadata": {},
   "outputs": [],
   "source": [
    "peaks.s0.summits <- sapply(peaks.s0.signal, findVectorMax, g0 = kernels$g0, g1 = kernels$g1, g2 = kernels$g2,\n",
    "                           min.dist = 50)\n",
    "\n",
    "summit.s0.count <- sapply(peaks.s0.summits, length)\n",
    "peaks.s0.s0.signal <- peaks.s0.signal[summit.s0.count == 0]\n",
    "peaks.s0.s0.signal.max <- sapply(peaks.s0.s0.signal, max)\n",
    "peaks.s0.s0.signal.high <- peaks.s0.s0.signal[peaks.s0.s0.signal.max > 0.5]"
   ]
  },
  {
   "cell_type": "code",
   "execution_count": 57,
   "id": "introductory-invitation",
   "metadata": {},
   "outputs": [
    {
     "name": "stdout",
     "output_type": "stream",
     "text": [
      "[1] 5710\n"
     ]
    }
   ],
   "source": [
    "print(length(peaks.s0.s0.signal))"
   ]
  },
  {
   "cell_type": "code",
   "execution_count": 58,
   "id": "hungry-timeline",
   "metadata": {},
   "outputs": [
    {
     "name": "stdout",
     "output_type": "stream",
     "text": [
      "[1] 20712\n"
     ]
    }
   ],
   "source": [
    "print(sum(summit.s0.count > 0))"
   ]
  },
  {
   "cell_type": "code",
   "execution_count": 59,
   "id": "smooth-clothing",
   "metadata": {},
   "outputs": [
    {
     "name": "stdout",
     "output_type": "stream",
     "text": [
      "[1] 5710\n"
     ]
    }
   ],
   "source": [
    "print(sum(summit.s0.count == 0))"
   ]
  },
  {
   "cell_type": "code",
   "execution_count": 60,
   "id": "jewish-platinum",
   "metadata": {},
   "outputs": [
    {
     "data": {
      "text/html": [
       "5710"
      ],
      "text/latex": [
       "5710"
      ],
      "text/markdown": [
       "5710"
      ],
      "text/plain": [
       "[1] 5710"
      ]
     },
     "metadata": {},
     "output_type": "display_data"
    }
   ],
   "source": [
    "length(peaks.s0.s0.signal.high)"
   ]
  },
  {
   "cell_type": "markdown",
   "id": "literary-forge",
   "metadata": {},
   "source": [
    "## now use smaller bandwidth "
   ]
  },
  {
   "cell_type": "code",
   "execution_count": 61,
   "id": "universal-deficit",
   "metadata": {},
   "outputs": [],
   "source": [
    "kernels_100bw <- gen_kernels(100)\n",
    "peaks.s0.s0.high.summits <- sapply(peaks.s0.s0.signal.high, findVectorMax, g0 = kernels_100bw$g0, \n",
    "                                   g1 = kernels_100bw$g1, g2 = kernels_100bw$g2)\n"
   ]
  },
  {
   "cell_type": "code",
   "execution_count": 62,
   "id": "communist-quantum",
   "metadata": {},
   "outputs": [],
   "source": [
    "summit.s0.s0.high.count <- sapply(peaks.s0.s0.high.summits, length)\n"
   ]
  },
  {
   "cell_type": "code",
   "execution_count": 63,
   "id": "paperback-horizon",
   "metadata": {},
   "outputs": [
    {
     "data": {
      "text/html": [
       "610"
      ],
      "text/latex": [
       "610"
      ],
      "text/markdown": [
       "610"
      ],
      "text/plain": [
       "[1] 610"
      ]
     },
     "metadata": {},
     "output_type": "display_data"
    }
   ],
   "source": [
    "sum(summit.s0.s0.high.count > 0)"
   ]
  },
  {
   "cell_type": "code",
   "execution_count": 64,
   "id": "advised-excess",
   "metadata": {},
   "outputs": [
    {
     "data": {
      "text/html": [
       "5100"
      ],
      "text/latex": [
       "5100"
      ],
      "text/markdown": [
       "5100"
      ],
      "text/plain": [
       "[1] 5100"
      ]
     },
     "metadata": {},
     "output_type": "display_data"
    }
   ],
   "source": [
    "sum(summit.s0.s0.high.count == 0)"
   ]
  },
  {
   "cell_type": "code",
   "execution_count": 65,
   "id": "dietary-concentration",
   "metadata": {},
   "outputs": [],
   "source": [
    "peaks.summits.final <- c(peaks.summits[summit.count > 0],\n",
    "                         peaks.s0.summits[summit.s0.count > 0],\n",
    "                         peaks.s0.s0.high.summits[summit.s0.s0.high.count > 0])"
   ]
  },
  {
   "cell_type": "code",
   "execution_count": 66,
   "id": "elegant-parker",
   "metadata": {},
   "outputs": [
    {
     "data": {
      "text/html": [
       "71614"
      ],
      "text/latex": [
       "71614"
      ],
      "text/markdown": [
       "71614"
      ],
      "text/plain": [
       "[1] 71614"
      ]
     },
     "metadata": {},
     "output_type": "display_data"
    }
   ],
   "source": [
    "length(peaks.summits.final)"
   ]
  },
  {
   "cell_type": "code",
   "execution_count": 67,
   "id": "rocky-concentrate",
   "metadata": {},
   "outputs": [
    {
     "data": {
      "text/html": [
       "<dl>\n",
       "\t<dt>$peak4</dt>\n",
       "\t\t<dd>168</dd>\n",
       "\t<dt>$peak10</dt>\n",
       "\t\t<dd><style>\n",
       ".list-inline {list-style: none; margin:0; padding: 0}\n",
       ".list-inline>li {display: inline-block}\n",
       ".list-inline>li:not(:last-child)::after {content: \"\\00b7\"; padding: 0 .5ex}\n",
       "</style>\n",
       "<ol class=list-inline><li>425</li><li>122</li></ol>\n",
       "</dd>\n",
       "\t<dt>$peak11</dt>\n",
       "\t\t<dd>120</dd>\n",
       "\t<dt>$peak12</dt>\n",
       "\t\t<dd>334</dd>\n",
       "\t<dt>$peak13</dt>\n",
       "\t\t<dd><style>\n",
       ".list-inline {list-style: none; margin:0; padding: 0}\n",
       ".list-inline>li {display: inline-block}\n",
       ".list-inline>li:not(:last-child)::after {content: \"\\00b7\"; padding: 0 .5ex}\n",
       "</style>\n",
       "<ol class=list-inline><li>825</li><li>178</li></ol>\n",
       "</dd>\n",
       "\t<dt>$peak16</dt>\n",
       "\t\t<dd><style>\n",
       ".list-inline {list-style: none; margin:0; padding: 0}\n",
       ".list-inline>li {display: inline-block}\n",
       ".list-inline>li:not(:last-child)::after {content: \"\\00b7\"; padding: 0 .5ex}\n",
       "</style>\n",
       "<ol class=list-inline><li>661</li><li>429</li><li>215</li></ol>\n",
       "</dd>\n",
       "</dl>\n"
      ],
      "text/latex": [
       "\\begin{description}\n",
       "\\item[\\$peak4] 168\n",
       "\\item[\\$peak10] \\begin{enumerate*}\n",
       "\\item 425\n",
       "\\item 122\n",
       "\\end{enumerate*}\n",
       "\n",
       "\\item[\\$peak11] 120\n",
       "\\item[\\$peak12] 334\n",
       "\\item[\\$peak13] \\begin{enumerate*}\n",
       "\\item 825\n",
       "\\item 178\n",
       "\\end{enumerate*}\n",
       "\n",
       "\\item[\\$peak16] \\begin{enumerate*}\n",
       "\\item 661\n",
       "\\item 429\n",
       "\\item 215\n",
       "\\end{enumerate*}\n",
       "\n",
       "\\end{description}\n"
      ],
      "text/markdown": [
       "$peak4\n",
       ":   168\n",
       "$peak10\n",
       ":   1. 425\n",
       "2. 122\n",
       "\n",
       "\n",
       "\n",
       "$peak11\n",
       ":   120\n",
       "$peak12\n",
       ":   334\n",
       "$peak13\n",
       ":   1. 825\n",
       "2. 178\n",
       "\n",
       "\n",
       "\n",
       "$peak16\n",
       ":   1. 661\n",
       "2. 429\n",
       "3. 215\n",
       "\n",
       "\n",
       "\n",
       "\n",
       "\n"
      ],
      "text/plain": [
       "$peak4\n",
       "[1] 168\n",
       "\n",
       "$peak10\n",
       "[1] 425 122\n",
       "\n",
       "$peak11\n",
       "[1] 120\n",
       "\n",
       "$peak12\n",
       "[1] 334\n",
       "\n",
       "$peak13\n",
       "[1] 825 178\n",
       "\n",
       "$peak16\n",
       "[1] 661 429 215\n"
      ]
     },
     "metadata": {},
     "output_type": "display_data"
    }
   ],
   "source": [
    "head(peaks.summits.final)"
   ]
  },
  {
   "cell_type": "code",
   "execution_count": 68,
   "id": "twelve-antenna",
   "metadata": {},
   "outputs": [
    {
     "data": {
      "text/html": [
       "<dl>\n",
       "\t<dt>$peak76174</dt>\n",
       "\t\t<dd>105</dd>\n",
       "\t<dt>$peak76296</dt>\n",
       "\t\t<dd>134</dd>\n",
       "\t<dt>$peak76374</dt>\n",
       "\t\t<dd>153</dd>\n",
       "\t<dt>$peak76465</dt>\n",
       "\t\t<dd>203</dd>\n",
       "\t<dt>$peak76495</dt>\n",
       "\t\t<dd>108</dd>\n",
       "\t<dt>$peak76548</dt>\n",
       "\t\t<dd>167</dd>\n",
       "</dl>\n"
      ],
      "text/latex": [
       "\\begin{description}\n",
       "\\item[\\$peak76174] 105\n",
       "\\item[\\$peak76296] 134\n",
       "\\item[\\$peak76374] 153\n",
       "\\item[\\$peak76465] 203\n",
       "\\item[\\$peak76495] 108\n",
       "\\item[\\$peak76548] 167\n",
       "\\end{description}\n"
      ],
      "text/markdown": [
       "$peak76174\n",
       ":   105\n",
       "$peak76296\n",
       ":   134\n",
       "$peak76374\n",
       ":   153\n",
       "$peak76465\n",
       ":   203\n",
       "$peak76495\n",
       ":   108\n",
       "$peak76548\n",
       ":   167\n",
       "\n",
       "\n"
      ],
      "text/plain": [
       "$peak76174\n",
       "[1] 105\n",
       "\n",
       "$peak76296\n",
       "[1] 134\n",
       "\n",
       "$peak76374\n",
       "[1] 153\n",
       "\n",
       "$peak76465\n",
       "[1] 203\n",
       "\n",
       "$peak76495\n",
       "[1] 108\n",
       "\n",
       "$peak76548\n",
       "[1] 167\n"
      ]
     },
     "metadata": {},
     "output_type": "display_data"
    }
   ],
   "source": [
    "tail(peaks.summits.final)"
   ]
  },
  {
   "cell_type": "code",
   "execution_count": 69,
   "id": "alternative-skirt",
   "metadata": {},
   "outputs": [
    {
     "data": {
      "text/html": [
       "76714"
      ],
      "text/latex": [
       "76714"
      ],
      "text/markdown": [
       "76714"
      ],
      "text/plain": [
       "[1] 76714"
      ]
     },
     "metadata": {},
     "output_type": "display_data"
    }
   ],
   "source": [
    "length(peaks.signal)"
   ]
  },
  {
   "cell_type": "code",
   "execution_count": 72,
   "id": "approved-survival",
   "metadata": {},
   "outputs": [
    {
     "data": {
      "text/plain": [
       "numeric-Rle of length 535 with 144 runs\n",
       "  Lengths: 12  1  2  1  6  1  9  1  1  1  1 ...  1  9  1  1  2  1  1  5  1  1\n",
       "  Values :  0  1  0  1  0  1  0  1  3  0  1 ...  6  0  1  0  1  0  2  0  1  0"
      ]
     },
     "metadata": {},
     "output_type": "display_data"
    }
   ],
   "source": [
    "peaks.signal$peak4"
   ]
  },
  {
   "cell_type": "code",
   "execution_count": 76,
   "id": "fantastic-license",
   "metadata": {},
   "outputs": [
    {
     "data": {
      "text/plain": [
       "numeric-Rle of length 1 with 1 run\n",
       "  Lengths: 1\n",
       "  Values : 0"
      ]
     },
     "metadata": {},
     "output_type": "display_data"
    }
   ],
   "source": [
    "peaks.signal$peak4[72]"
   ]
  },
  {
   "cell_type": "code",
   "execution_count": 77,
   "id": "referenced-arcade",
   "metadata": {},
   "outputs": [
    {
     "data": {
      "text/html": [
       "29"
      ],
      "text/latex": [
       "29"
      ],
      "text/markdown": [
       "29"
      ],
      "text/plain": [
       "[1] 29"
      ]
     },
     "metadata": {},
     "output_type": "display_data"
    }
   ],
   "source": [
    "max(peaks.signal$peak2)"
   ]
  },
  {
   "cell_type": "code",
   "execution_count": 78,
   "id": "ongoing-craps",
   "metadata": {},
   "outputs": [
    {
     "data": {
      "text/html": [
       "260"
      ],
      "text/latex": [
       "260"
      ],
      "text/markdown": [
       "260"
      ],
      "text/plain": [
       "[1] 260"
      ]
     },
     "metadata": {},
     "output_type": "display_data"
    }
   ],
   "source": [
    "length(peaks.signal$peak2)"
   ]
  },
  {
   "cell_type": "code",
   "execution_count": 79,
   "id": "level-snake",
   "metadata": {},
   "outputs": [],
   "source": [
    "saveRDS(peaks.summits.final, paste(motif_regression_out, \"SUMMITS-all-atac-peaks-summits-lists.rds\", sep=\"/\"))"
   ]
  },
  {
   "cell_type": "markdown",
   "id": "matched-cleanup",
   "metadata": {},
   "source": [
    "# generate final set of regions around peak summits"
   ]
  },
  {
   "cell_type": "code",
   "execution_count": 80,
   "id": "still-minutes",
   "metadata": {},
   "outputs": [
    {
     "data": {
      "text/html": [
       "<dl>\n",
       "\t<dt>$peak76174</dt>\n",
       "\t\t<dd>105</dd>\n",
       "\t<dt>$peak76296</dt>\n",
       "\t\t<dd>134</dd>\n",
       "\t<dt>$peak76374</dt>\n",
       "\t\t<dd>153</dd>\n",
       "\t<dt>$peak76465</dt>\n",
       "\t\t<dd>203</dd>\n",
       "\t<dt>$peak76495</dt>\n",
       "\t\t<dd>108</dd>\n",
       "\t<dt>$peak76548</dt>\n",
       "\t\t<dd>167</dd>\n",
       "</dl>\n"
      ],
      "text/latex": [
       "\\begin{description}\n",
       "\\item[\\$peak76174] 105\n",
       "\\item[\\$peak76296] 134\n",
       "\\item[\\$peak76374] 153\n",
       "\\item[\\$peak76465] 203\n",
       "\\item[\\$peak76495] 108\n",
       "\\item[\\$peak76548] 167\n",
       "\\end{description}\n"
      ],
      "text/markdown": [
       "$peak76174\n",
       ":   105\n",
       "$peak76296\n",
       ":   134\n",
       "$peak76374\n",
       ":   153\n",
       "$peak76465\n",
       ":   203\n",
       "$peak76495\n",
       ":   108\n",
       "$peak76548\n",
       ":   167\n",
       "\n",
       "\n"
      ],
      "text/plain": [
       "$peak76174\n",
       "[1] 105\n",
       "\n",
       "$peak76296\n",
       "[1] 134\n",
       "\n",
       "$peak76374\n",
       "[1] 153\n",
       "\n",
       "$peak76465\n",
       "[1] 203\n",
       "\n",
       "$peak76495\n",
       "[1] 108\n",
       "\n",
       "$peak76548\n",
       "[1] 167\n"
      ]
     },
     "metadata": {},
     "output_type": "display_data"
    }
   ],
   "source": [
    "tail(peaks.summits.final)"
   ]
  },
  {
   "cell_type": "code",
   "execution_count": 81,
   "id": "forced-stocks",
   "metadata": {},
   "outputs": [
    {
     "name": "stdout",
     "output_type": "stream",
     "text": [
      "[1] \"prepare final set of regions around peak summits\"\n"
     ]
    }
   ],
   "source": [
    "print(\"prepare final set of regions around peak summits\")\n",
    "summit.width <- 150\n",
    "peaks.summits.dt <- data.table(ldply(peaks.summits.final, matrix, .id = \"peak\"))\n",
    "colnames(peaks.summits.dt) <- c(\"peak\", \"summit\")\n",
    "peaks.summits <- all.atac.peaks[peaks.summits.dt$peak, ]"
   ]
  },
  {
   "cell_type": "code",
   "execution_count": 82,
   "id": "charitable-murray",
   "metadata": {},
   "outputs": [],
   "source": [
    "stopifnot(start(peaks.summits) + peaks.summits.dt$summit <= end(peaks.summits))\n",
    "start(peaks.summits) <- start(peaks.summits) + peaks.summits.dt$summit\n",
    "end(peaks.summits) <- start(peaks.summits)"
   ]
  },
  {
   "cell_type": "code",
   "execution_count": 83,
   "id": "looking-garbage",
   "metadata": {},
   "outputs": [
    {
     "data": {
      "text/plain": [
       "GRanges object with 119843 ranges and 2 metadata columns:\n",
       "            seqnames    ranges strand |        name        peak\n",
       "               <Rle> <IRanges>  <Rle> | <character> <character>\n",
       "      peak4     chr1    191532      * |         536       peak4\n",
       "     peak10     chr1    778722      * |         835      peak10\n",
       "     peak10     chr1    778419      * |         835      peak10\n",
       "     peak11     chr1    817101      * |         446      peak11\n",
       "     peak12     chr1    821216      * |         611      peak12\n",
       "        ...      ...       ...    ... .         ...         ...\n",
       "  peak76296     chrX 136191357      * |         290   peak76296\n",
       "  peak76374     chrX 138985097      * |         345   peak76374\n",
       "  peak76465     chrX 150459312      * |         339   peak76465\n",
       "  peak76495     chrX 151031009      * |         244   peak76495\n",
       "  peak76548     chrX 153735449      * |         275   peak76548\n",
       "  -------\n",
       "  seqinfo: 16 sequences from an unspecified genome; no seqlengths"
      ]
     },
     "metadata": {},
     "output_type": "display_data"
    }
   ],
   "source": [
    "peaks.summits$peak <- names(peaks.summits)\n",
    "peaks.summits"
   ]
  },
  {
   "cell_type": "code",
   "execution_count": 84,
   "id": "material-berlin",
   "metadata": {},
   "outputs": [
    {
     "data": {
      "text/plain": [
       "GRanges object with 119843 ranges and 3 metadata columns:\n",
       "            seqnames    ranges strand |        name        peak\n",
       "               <Rle> <IRanges>  <Rle> | <character> <character>\n",
       "      peak4     chr1    191532      * |         536       peak4\n",
       "     peak10     chr1    778722      * |         835      peak10\n",
       "     peak10     chr1    778419      * |         835      peak10\n",
       "     peak11     chr1    817101      * |         446      peak11\n",
       "     peak12     chr1    821216      * |         611      peak12\n",
       "        ...      ...       ...    ... .         ...         ...\n",
       "  peak76296     chrX 136191357      * |         290   peak76296\n",
       "  peak76374     chrX 138985097      * |         345   peak76374\n",
       "  peak76465     chrX 150459312      * |         339   peak76465\n",
       "  peak76495     chrX 151031009      * |         244   peak76495\n",
       "  peak76548     chrX 153735449      * |         275   peak76548\n",
       "                     peak_position\n",
       "                       <character>\n",
       "      peak4     chr1:191364-191898\n",
       "     peak10     chr1:778297-779130\n",
       "     peak10     chr1:778297-779130\n",
       "     peak11     chr1:816981-817425\n",
       "     peak12     chr1:820882-821491\n",
       "        ...                    ...\n",
       "  peak76296 chrX:136191223-13619..\n",
       "  peak76374 chrX:138984944-13898..\n",
       "  peak76465 chrX:150459109-15045..\n",
       "  peak76495 chrX:151030901-15103..\n",
       "  peak76548 chrX:153735282-15373..\n",
       "  -------\n",
       "  seqinfo: 16 sequences from an unspecified genome; no seqlengths"
      ]
     },
     "metadata": {},
     "output_type": "display_data"
    }
   ],
   "source": [
    "peaks.summits$peak_position <- sapply(peaks.summits$peak, function (pk) {\n",
    "    peak_info = all.atac.peaks[pk]\n",
    "    paste(seqnames(peak_info), \":\", start(ranges(peak_info)), \"-\", end(ranges(peak_info)), sep = \"\")\n",
    "})\n",
    "peaks.summits"
   ]
  },
  {
   "cell_type": "code",
   "execution_count": 85,
   "id": "textile-inspection",
   "metadata": {},
   "outputs": [],
   "source": [
    "peaks.summits$peak <- peaks.summits$name"
   ]
  },
  {
   "cell_type": "code",
   "execution_count": 86,
   "id": "adaptive-diameter",
   "metadata": {},
   "outputs": [],
   "source": [
    "peaks.summits <- sort(peaks.summits)\n",
    "peaks.summits$name <- paste0(\"summit\", seq_along(peaks.summits))"
   ]
  },
  {
   "cell_type": "code",
   "execution_count": 87,
   "id": "advised-crowd",
   "metadata": {},
   "outputs": [
    {
     "data": {
      "text/plain": [
       "GRanges object with 119843 ranges and 3 metadata columns:\n",
       "            seqnames    ranges strand |         name        peak\n",
       "               <Rle> <IRanges>  <Rle> |  <character> <character>\n",
       "      peak1     chr1     10172      * |      summit1         230\n",
       "      peak2     chr1    180917      * |      summit2         261\n",
       "      peak3     chr1    181466      * |      summit3         215\n",
       "      peak4     chr1    191532      * |      summit4         536\n",
       "      peak5     chr1    268005      * |      summit5         190\n",
       "        ...      ...       ...    ... .          ...         ...\n",
       "  peak76709     chrX 155881281      * | summit119839         935\n",
       "  peak76711     chrX 155967070      * | summit119840         201\n",
       "  peak76712     chrX 155997600      * | summit119841         485\n",
       "  peak76713     chrX 156030197      * | summit119842         222\n",
       "  peak76714     chrX 156030613      * | summit119843         177\n",
       "                     peak_position\n",
       "                       <character>\n",
       "      peak1       chr1:10017-10245\n",
       "      peak2     chr1:180708-180967\n",
       "      peak3     chr1:181337-181550\n",
       "      peak4     chr1:191364-191898\n",
       "      peak5     chr1:267887-268075\n",
       "        ...                    ...\n",
       "  peak76709 chrX:155880707-15588..\n",
       "  peak76711 chrX:155966944-15596..\n",
       "  peak76712 chrX:155997284-15599..\n",
       "  peak76713 chrX:156030040-15603..\n",
       "  peak76714 chrX:156030504-15603..\n",
       "  -------\n",
       "  seqinfo: 16 sequences from an unspecified genome; no seqlengths"
      ]
     },
     "metadata": {},
     "output_type": "display_data"
    }
   ],
   "source": [
    "peaks.summits"
   ]
  },
  {
   "cell_type": "code",
   "execution_count": 88,
   "id": "explicit-corruption",
   "metadata": {},
   "outputs": [],
   "source": [
    "names(peaks.summits) <- peaks.summits$name\n",
    "peaks.summits <- resize(peaks.summits, width = summit.width, fix = \"center\")"
   ]
  },
  {
   "cell_type": "code",
   "execution_count": 89,
   "id": "previous-macintosh",
   "metadata": {},
   "outputs": [
    {
     "data": {
      "text/plain": [
       "GRanges object with 119843 ranges and 3 metadata columns:\n",
       "               seqnames              ranges strand |         name        peak\n",
       "                  <Rle>           <IRanges>  <Rle> |  <character> <character>\n",
       "       summit1     chr1         10097-10246      * |      summit1         230\n",
       "       summit2     chr1       180842-180991      * |      summit2         261\n",
       "       summit3     chr1       181391-181540      * |      summit3         215\n",
       "       summit4     chr1       191457-191606      * |      summit4         536\n",
       "       summit5     chr1       267930-268079      * |      summit5         190\n",
       "           ...      ...                 ...    ... .          ...         ...\n",
       "  summit119839     chrX 155881206-155881355      * | summit119839         935\n",
       "  summit119840     chrX 155966995-155967144      * | summit119840         201\n",
       "  summit119841     chrX 155997525-155997674      * | summit119841         485\n",
       "  summit119842     chrX 156030122-156030271      * | summit119842         222\n",
       "  summit119843     chrX 156030538-156030687      * | summit119843         177\n",
       "                        peak_position\n",
       "                          <character>\n",
       "       summit1       chr1:10017-10245\n",
       "       summit2     chr1:180708-180967\n",
       "       summit3     chr1:181337-181550\n",
       "       summit4     chr1:191364-191898\n",
       "       summit5     chr1:267887-268075\n",
       "           ...                    ...\n",
       "  summit119839 chrX:155880707-15588..\n",
       "  summit119840 chrX:155966944-15596..\n",
       "  summit119841 chrX:155997284-15599..\n",
       "  summit119842 chrX:156030040-15603..\n",
       "  summit119843 chrX:156030504-15603..\n",
       "  -------\n",
       "  seqinfo: 16 sequences from an unspecified genome; no seqlengths"
      ]
     },
     "metadata": {},
     "output_type": "display_data"
    }
   ],
   "source": [
    "peaks.summits"
   ]
  },
  {
   "cell_type": "code",
   "execution_count": 98,
   "id": "fda96140",
   "metadata": {},
   "outputs": [
    {
     "data": {
      "image/png": "[encoded data removed]",
      "text/plain": [
       "plot without title"
      ]
     },
     "metadata": {
      "image/png": {
       "height": 420,
       "width": 420
      }
     },
     "output_type": "display_data"
    }
   ],
   "source": [
    "plot(as.numeric(atac.signal[peaks.summits[233]]$chr1))"
   ]
  },
  {
   "cell_type": "code",
   "execution_count": 91,
   "id": "terminal-excess",
   "metadata": {},
   "outputs": [],
   "source": [
    "\n",
    "export(peaks.summits, paste(motif_regression_out, \"SUMMITS-all-atac-summits.bed\", sep=\"/\"))\n",
    "saveRDS(peaks.summits, paste(motif_regression_out, \"SUMMITS-all-atac-summits.rds\", sep=\"/\"))"
   ]
  },
  {
   "cell_type": "code",
   "execution_count": 92,
   "id": "recognized-symbol",
   "metadata": {},
   "outputs": [],
   "source": [
    "\n",
    "write.table(as.data.frame(peaks.summits), paste(motif_regression_out, \"SUMMITS-peak_summits.more_info.bed\", sep=\"/\"), quote= F, row.names = F, sep =\"\\t\")"
   ]
  },
  {
   "cell_type": "code",
   "execution_count": null,
   "id": "confused-paint",
   "metadata": {},
   "outputs": [],
   "source": []
  }
 ],
 "metadata": {
  "kernelspec": {
   "display_name": "archR",
   "language": "R",
   "name": "ir"
  },
  "language_info": {
   "codemirror_mode": "r",
   "file_extension": ".r",
   "mimetype": "text/x-r-source",
   "name": "R",
   "pygments_lexer": "r",
   "version": "4.1.3"
  }
 },
 "nbformat": 4,
 "nbformat_minor": 5
}
